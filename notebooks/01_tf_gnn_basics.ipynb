{
  "nbformat": 4,
  "nbformat_minor": 0,
  "metadata": {
    "colab": {
      "name": "01-tf-gnn-basics.ipynb",
      "provenance": [],
      "collapsed_sections": []
    },
    "kernelspec": {
      "name": "python3",
      "display_name": "Python 3"
    }
  },
  "cells": [
    {
      "cell_type": "markdown",
      "metadata": {
        "id": "vln3LX7iYdts"
      },
      "source": [
        "# `tf_gnns`: A Hackable `graph_nets` library\n",
        "largely inspired by the `graph_nets` project.\n",
        "\n",
        "First install the library on the colab notebook and import it"
      ]
    },
    {
      "cell_type": "code",
      "metadata": {
        "colab": {
          "base_uri": "https://localhost:8080/"
        },
        "id": "8OZrOK7oJ9XW",
        "outputId": "b1588d72-7a73-4989-e944-03e4b19c6756"
      },
      "source": [
        "# Install the tf_gnns library with pip:\n",
        "!pip install tf_gnns==0.1.0\n",
        "import tf_gnns"
      ],
      "execution_count": 135,
      "outputs": [
        {
          "output_type": "stream",
          "text": [
            "\u001b[31mERROR: Could not find a version that satisfies the requirement tf_gnns==0.1.0 (from versions: none)\u001b[0m\n",
            "\u001b[31mERROR: No matching distribution found for tf_gnns==0.1.0\u001b[0m\n"
          ],
          "name": "stdout"
        }
      ]
    },
    {
      "cell_type": "markdown",
      "metadata": {
        "id": "38YcdOq2KIb6"
      },
      "source": [
        "# **GraphNet basics**\n",
        "The data-structure over which GraphNets (GNs) operate is an attributed multi-graph. In what follows some examples of definition of graphs are given.\n",
        "\n",
        "## Creating a single `Graph'\n",
        "In order to specify a `Graph' you need to specify a set of edges and nodes.\n",
        "\n"
      ]
    },
    {
      "cell_type": "code",
      "metadata": {
        "id": "wQfUezXNKOUi"
      },
      "source": [
        "# Creation of edges and nodes:\n",
        "import numpy as np\n",
        "from tf_gnns import Graph, Edge, Node\n",
        "\n",
        "nw_state_size = 10 # the state of the node and edge attributes. They can be different if necessary.\n",
        "\n",
        "# Defining the connectivity of a graph:\n",
        "adj_A = [(2,4),(3,4),(2,2) , (2,5),(5,1),(1,2),(2,3),(3,4),(4,5),(6,5),(7,6),(8,7)]\n",
        "\n",
        "nodes_A = [Node(np.random.randn(1,nw_state_size)) for n in range(10)]\n",
        "edges_A = [Edge(np.random.randn(1,nw_state_size), node_from= nodes_A[e_ij[0]], node_to= nodes_A[e_ij[1]]) for e_ij in adj_A]\n",
        "graph_A = Graph(nodes=nodes_A, edges= edges_A)"
      ],
      "execution_count": 2,
      "outputs": []
    },
    {
      "cell_type": "markdown",
      "metadata": {
        "id": "3Zt-TYiiaG1f"
      },
      "source": [
        "For more expressivity some operations are over-loaded. Inspect the docstrings and the source code directly when not sure what happens. "
      ]
    },
    {
      "cell_type": "code",
      "metadata": {
        "colab": {
          "base_uri": "https://localhost:8080/"
        },
        "id": "Kt_Kx5XMaYCO",
        "outputId": "2a340fa3-93af-4194-eead-2901d599ae74"
      },
      "source": [
        "help(graph_A.__add__)"
      ],
      "execution_count": 3,
      "outputs": [
        {
          "output_type": "stream",
          "text": [
            "Help on method __add__ in module tf_gnns.datastructures:\n",
            "\n",
            "__add__(graph) method of tf_gnns.datastructures.Graph instance\n",
            "    This should only work with graphs that have compatible node and edge features\n",
            "    Assumed also that the two graphs have the same connectivity (otherwise this will fail ugly)\n",
            "\n"
          ],
          "name": "stdout"
        }
      ]
    },
    {
      "cell_type": "markdown",
      "metadata": {
        "id": "fiisOCW1KsJa"
      },
      "source": [
        "Simple graphs are not convenient for bached computation and in general should be avoided. Sometimes it may be \"safer\" to use graphs as a datastructure for experimentation on new algorithms. \n",
        "\n",
        "For most use-cases a `GraphTuple' should be used. `GraphTuples' are the only datastructures supported from the `graph_nets' library.\n",
        "\n",
        "## Creating a `GraphTuple`"
      ]
    },
    {
      "cell_type": "markdown",
      "metadata": {
        "id": "U08TIII0aiOF"
      },
      "source": [
        "# The `GraphTuple` data structure\n",
        "The `GraphTuple` is a set of graphs packed into an object that allows for easier parallelization of the `GraphNet` computation block. It is the default (and only) possible data-structure in DeepMind's GraphNets library.\n",
        "You can either create a `GraphTuple` directly from tensors or numpy arrays or by a list of `Graph` objects (as above). Utilities are provided to perform such manipulations. Note that in general it's better to avoid using `Graph`s alltogether, but they are useful for testing.\n",
        "\n",
        "Here is how to create a `GraphTuple` from a list of `Graph` objects:"
      ]
    },
    {
      "cell_type": "code",
      "metadata": {
        "id": "tNZYYcuZa8Fh"
      },
      "source": [
        "from tf_gnns import make_graph_tuple_from_graph_list\n",
        "\n",
        "# Some graphs to compute with:\n",
        "adj_A = [(2,4),(3,4),(2,2) , (2,5),(5,1),(1,2),(2,3),(3,4),(4,5),(6,5),(7,6),(4,2)]\n",
        "adj_B = [(3,4),(2,2) , (2,5),(5,1),(1,2),(2,3),(3,4),(4,5),(6,5),(7,6),(8,9)]\n",
        "\n",
        "nw_state_size  = 2\n",
        "\n",
        "nodes_A = [Node(np.random.randn(1,nw_state_size)) for n in range(15)]\n",
        "edges_A = [Edge(np.random.randn(1,nw_state_size), node_from= nodes_A[e_ij[0]], node_to= nodes_A[e_ij[1]]) for e_ij in adj_A]\n",
        "graph_A = Graph(nodes=nodes_A, edges= edges_A)\n",
        "                \n",
        "nodes_B = [Node(np.random.randn(1,nw_state_size)) for n in range(10)]\n",
        "edges_B = [Edge(np.random.randn(1,nw_state_size), node_from=nodes_B[e_ij[0]], node_to = nodes_B[e_ij[1]]) for e_ij in adj_B]\n",
        "graph_B = Graph(nodes=nodes_B, edges= edges_B)\n",
        "gt = make_graph_tuple_from_graph_list([graph_A, graph_B])"
      ],
      "execution_count": 4,
      "outputs": []
    },
    {
      "cell_type": "code",
      "metadata": {
        "colab": {
          "base_uri": "https://localhost:8080/"
        },
        "id": "0eU4-zIDbLoH",
        "outputId": "e594ad05-f0d8-43ec-9796-747a33591721"
      },
      "source": [
        "print(\"number of nodes of graphtuple:\")\n",
        "print(gt.nodes.shape[0])\n",
        "\n",
        "print('GraphTuple tensor shapes:')\n",
        "print(gt.nodes.shape, gt.edges.shape)\n",
        "\n",
        "print(\"Shapes of a single node from graph_A: [%i,%i]\"%(graph_A.nodes[0].shape))\n",
        "\n",
        "\n",
        "print(\"Number of nodes of graphs: A: %i, B: %i\"%(len(graph_A.nodes), len(graph_B.nodes)))\n",
        "print(\"\")\n",
        "print(\"size of node attributes: [%i]\"%( graph_A.nodes[0].node_attr_tensor.shape[-1]))\n",
        "print(\"size of edge attributes: [%i]\"%(  graph_A.edges[0].edge_tensor.shape[-1]))"
      ],
      "execution_count": 5,
      "outputs": [
        {
          "output_type": "stream",
          "text": [
            "number of nodes of graphtuple:\n",
            "25\n",
            "GraphTuple tensor shapes:\n",
            "(25, 2) (23, 2)\n",
            "Shapes of a single node from graph_A: [1,2]\n",
            "Number of nodes of graphs: A: 15, B: 10\n",
            "\n",
            "size of node attributes: [2]\n",
            "size of edge attributes: [2]\n"
          ],
          "name": "stdout"
        }
      ]
    },
    {
      "cell_type": "markdown",
      "metadata": {
        "id": "eaBvkXVkbz0D"
      },
      "source": [
        "# **Creating a Custom `GraphNet`**\n",
        "\n",
        "In order to create a GraphNet (without global variables) one needs to define the following:\n",
        "\n",
        "* node function\n",
        "* an edge function\n",
        "* an edge aggregation function (except if a GraphIndependent network is implemented)\n",
        "\n",
        "In addition to that, one needs to pay attention that the input sizes of the node and edge function are consistent with the input graph, the edge aggregation function (if it exists) has to have outputs consistent with expected inputs of the node function (if the graph is not graph independet). Moreover, each of these functions have potentially different inputs related to the input graph.\n",
        "\n",
        "For instance:\n",
        "\n",
        "* Edge functions may have as inputs (\n",
        "    1) the edge state, \n",
        "    2) the sender node state, \n",
        "    3) the receiver node state\n",
        "\n",
        "* Node functions may have as inputs \n",
        "    1) the node state \n",
        "    2) an aggregated message incoming from the edges that point to that node. \n",
        "    \n",
        "These cases are identified internally by the naming of the inputs of the provided functions. See the examples to understand how to implement your own in case you want something special to happen in these functions. The `tf_gnns` library is built with `tf.keras` in mind and defines constraints to help development in a way that it exploits simple keras constructs (such as naming of inputs and output variables and the functional API of keras (`tf.keras.Model`) to facilitate building `GraphNets`. In contrast, DeepMind's GraphNet library uses Sonnet for that reason, and puts constraints on how computation and model construction happens for the same purpose. For some use-cases (such as implementation of bootstrapping or potential extensions on sparse graphs) It was found this was not very convenient - this is why this library was built.\n",
        "\n"
      ]
    },
    {
      "cell_type": "code",
      "metadata": {
        "colab": {
          "base_uri": "https://localhost:8080/"
        },
        "id": "SNodjfRfcHJO",
        "outputId": "fa38c23c-d4aa-412a-c072-8e745e255676"
      },
      "source": [
        "from tf_gnns import make_mlp_graphnet_functions, GraphNet, Node, Edge, Graph, GraphTuple, make_graph_tuple_from_graph_list\n",
        "## Naming:\n",
        "# ... _enc  : parameter of encoder block GNN (graph indep.)\n",
        "# ... _core : parameter of core block GNN \n",
        "# ... _dec  : parameter of decoder block GNN\n",
        "gnn_size = 50;\n",
        "node_input_size_enc, node_output_size_enc = [2, 10]\n",
        "node_input_size_core, node_output_size_core = [10, 10]\n",
        "node_input_size_dec, node_output_size_dec = [10,2]\n",
        "\n",
        "edge_input_size_enc  = 2\n",
        "edge_output_size_dec = 2\n",
        "\n",
        "graph_fcn_enc = make_mlp_graphnet_functions(gnn_size,\n",
        "                                          node_input_size = node_input_size_enc,\n",
        "                                          node_output_size = node_output_size_enc,\n",
        "                                          edge_input_size =  edge_input_size_enc,\n",
        "                                          graph_indep=True)\n",
        "\n",
        "graph_fcn_core = make_mlp_graphnet_functions(gnn_size,\n",
        "                                          node_input_size = node_input_size_core, \n",
        "                                          node_output_size = node_output_size_core, \n",
        "                                          graph_indep=False)\n",
        "\n",
        "graph_fcn_dec = make_mlp_graphnet_functions(gnn_size,\n",
        "                                          node_input_size = node_input_size_dec, \n",
        "                                          node_output_size = node_output_size_dec, \n",
        "                                          edge_output_size= edge_output_size_dec,\n",
        "                                          graph_indep=True)\n",
        "\n",
        "\n",
        "graph_fcn_enc['graph_independent'] = True\n",
        "graph_fcn_dec['graph_independent'] = True\n",
        "\n",
        "gnn_dicts = [graph_fcn_enc, graph_fcn_core, graph_fcn_enc]\n",
        "\n",
        "gnns = [GraphNet(**fcns) for fcns in [graph_fcn_enc,graph_fcn_core,graph_fcn_dec]] # A full encode-core-decode set of GNNs. One may eval. the core block multiple times.\n",
        "    "
      ],
      "execution_count": 23,
      "outputs": [
        {
          "output_type": "stream",
          "text": [
            "[None, 10]\n"
          ],
          "name": "stdout"
        }
      ]
    },
    {
      "cell_type": "code",
      "metadata": {
        "id": "NG-Y6d9-yft7"
      },
      "source": [
        ""
      ],
      "execution_count": 24,
      "outputs": []
    },
    {
      "cell_type": "markdown",
      "metadata": {
        "id": "CDMVNfemgOsD"
      },
      "source": [
        "In the example above `make_mlp_graphnet_functions` is a factory method. It conveniently returns a set of functions (keras models) that are in turn used to create GNNs.\n",
        "\n"
      ]
    },
    {
      "cell_type": "code",
      "metadata": {
        "colab": {
          "base_uri": "https://localhost:8080/"
        },
        "id": "AeUjRGf9j0c5",
        "outputId": "940f2b5d-d4ef-4343-87aa-409754ee3215"
      },
      "source": [
        "help(make_mlp_graphnet_functions)"
      ],
      "execution_count": 25,
      "outputs": [
        {
          "output_type": "stream",
          "text": [
            "Help on function make_mlp_graphnet_functions in module tf_gnns.graphnet_utils:\n",
            "\n",
            "make_mlp_graphnet_functions(units, node_input_size, node_output_size, edge_input_size=None, edge_output_size=None, graph_indep=False, message_size=None, aggregation_function='mean')\n",
            "    Make the 3 functions that define the graph (no Nodes to Global and Edges to Global)\n",
            "    * If `edge_input_size' and `edge_output_size' are not defined (None) \n",
            "      It is assumed that all inputs and all outputs are the same shape for nodes and edges.\n",
            "    \n",
            "    parameters:\n",
            "      node_input_size  : shape of the node state of the incoming graph.\n",
            "      node_output_size : shape of the node state of the output graph\n",
            "      edge_input_size  : (optional) the shape of the edge attributes of the input graph (defaults to node_input_size)\n",
            "      edge_output_size : (optional) the shape of the edge attributes of the output graph (defaults to node_output_size)\n",
            "      graph_indep      : default: False - whether message passing happens in this graphNet (if not it is a \"graph-independent\" GN)\n",
            "      message_size     : (optional) the size of the passed message - this can be different from the edge-state output size! \n",
            "                         What this affects is what goes into the aggregator and to the node-function. Edge state can still be whatever.\n",
            "\n"
          ],
          "name": "stdout"
        }
      ]
    },
    {
      "cell_type": "markdown",
      "metadata": {
        "id": "SXWq1OZFj2Ul"
      },
      "source": [
        "Each of the GraphNets can be easilly saved using the `.save` method. You can invoke the summary method of any of these GNNs to inspect the inputs and outputs of the GN functions:"
      ]
    },
    {
      "cell_type": "code",
      "metadata": {
        "colab": {
          "base_uri": "https://localhost:8080/"
        },
        "id": "GPNUzitpkZxc",
        "outputId": "073e14f1-25cb-4e33-98ff-256c3c0a1216"
      },
      "source": [
        "gnns[0].summary()"
      ],
      "execution_count": 26,
      "outputs": [
        {
          "output_type": "stream",
          "text": [
            "Summary of all GraphNet functions\n",
            "Node function\n",
            "Model: \"model_20\"\n",
            "_________________________________________________________________\n",
            "Layer (type)                 Output Shape              Param #   \n",
            "=================================================================\n",
            "node_state (InputLayer)      [(None, 2)]               0         \n",
            "_________________________________________________________________\n",
            "dense_79 (Dense)             (None, 50)                150       \n",
            "_________________________________________________________________\n",
            "dropout_38 (Dropout)         (None, 50)                0         \n",
            "_________________________________________________________________\n",
            "dense_80 (Dense)             (None, 50)                2550      \n",
            "_________________________________________________________________\n",
            "dropout_39 (Dropout)         (None, 50)                0         \n",
            "_________________________________________________________________\n",
            "dense_81 (Dense)             (None, 50)                2550      \n",
            "_________________________________________________________________\n",
            "dense_82 (Dense)             (None, 10)                510       \n",
            "=================================================================\n",
            "Total params: 5,760\n",
            "Trainable params: 5,760\n",
            "Non-trainable params: 0\n",
            "_________________________________________________________________\n",
            "\n",
            "Edge function\n",
            "Model: \"model_19\"\n",
            "_________________________________________________________________\n",
            "Layer (type)                 Output Shape              Param #   \n",
            "=================================================================\n",
            "edge_state (InputLayer)      [(None, 2)]               0         \n",
            "_________________________________________________________________\n",
            "dense_75 (Dense)             (None, 50)                150       \n",
            "_________________________________________________________________\n",
            "dropout_36 (Dropout)         (None, 50)                0         \n",
            "_________________________________________________________________\n",
            "dense_76 (Dense)             (None, 50)                2550      \n",
            "_________________________________________________________________\n",
            "dropout_37 (Dropout)         (None, 50)                0         \n",
            "_________________________________________________________________\n",
            "dense_77 (Dense)             (None, 50)                2550      \n",
            "_________________________________________________________________\n",
            "dense_78 (Dense)             (None, 10)                510       \n",
            "=================================================================\n",
            "Total params: 5,760\n",
            "Trainable params: 5,760\n",
            "Non-trainable params: 0\n",
            "_________________________________________________________________\n",
            "\n",
            "Edge Agg. function\n",
            "Model: \"model_19\"\n",
            "_________________________________________________________________\n",
            "Layer (type)                 Output Shape              Param #   \n",
            "=================================================================\n",
            "edge_state (InputLayer)      [(None, 2)]               0         \n",
            "_________________________________________________________________\n",
            "dense_75 (Dense)             (None, 50)                150       \n",
            "_________________________________________________________________\n",
            "dropout_36 (Dropout)         (None, 50)                0         \n",
            "_________________________________________________________________\n",
            "dense_76 (Dense)             (None, 50)                2550      \n",
            "_________________________________________________________________\n",
            "dropout_37 (Dropout)         (None, 50)                0         \n",
            "_________________________________________________________________\n",
            "dense_77 (Dense)             (None, 50)                2550      \n",
            "_________________________________________________________________\n",
            "dense_78 (Dense)             (None, 10)                510       \n",
            "=================================================================\n",
            "Total params: 5,760\n",
            "Trainable params: 5,760\n",
            "Non-trainable params: 0\n",
            "_________________________________________________________________\n",
            "\n"
          ],
          "name": "stdout"
        }
      ]
    },
    {
      "cell_type": "markdown",
      "metadata": {
        "id": "h9nNnRAzkcRh"
      },
      "source": [
        "For convenience, and to make the syntax a bit more expressive, some operators are overloaded. For instance, the sum operator for GraphTuples is overloaded. It is possible to compute residual connections easilly as follows:"
      ]
    },
    {
      "cell_type": "code",
      "metadata": {
        "id": "nzBrWl9ZmMQ_"
      },
      "source": [
        "CORE_STEPS = 2\n",
        "def eval_full_shared_resid_core(G : GraphTuple, core_steps =CORE_STEPS):\n",
        "    ## The actual computation\n",
        "    G = gnns[0].graph_tuple_eval(G) # The \"encode\" GraphNet block \n",
        "\n",
        "    for ncore in range(0,core_steps):\n",
        "        # gnns[1] is the \"core\" GraphNet block\n",
        "        G += gnns[1].graph_tuple_eval(G) # Overloaded sum operator - assign-add implements the residual connection (no projection needed - same size)\n",
        "        \n",
        "    G = gnns[-1].graph_tuple_eval(G)\n",
        "\n",
        "    return G"
      ],
      "execution_count": 97,
      "outputs": []
    },
    {
      "cell_type": "code",
      "metadata": {
        "id": "Hj3JArLQmRHa"
      },
      "source": [
        "gt_eval = eval_full_shared_resid_core(gt.copy())"
      ],
      "execution_count": 98,
      "outputs": []
    },
    {
      "cell_type": "code",
      "metadata": {
        "colab": {
          "base_uri": "https://localhost:8080/"
        },
        "id": "t5tZrJUbnyJV",
        "outputId": "744a137a-2a71-44a5-d07d-b57ff89431f0"
      },
      "source": [
        "print(\"Output GraphTuple:\")\n",
        "edges_shape, nodes_shape = gt_eval.edges.shape.as_list(),gt_eval.nodes.shape.as_list()\n",
        "print(\"  nodes shape: [%i,%i]\"%(nodes_shape[0], nodes_shape[1]))\n",
        "print(\"  edges shape: [%i,%i]\"%(edges_shape[0], edges_shape[1]))\n"
      ],
      "execution_count": 99,
      "outputs": [
        {
          "output_type": "stream",
          "text": [
            "Output GraphTuple:\n",
            "  nodes shape: [25,2]\n",
            "  edges shape: [23,2]\n"
          ],
          "name": "stdout"
        }
      ]
    },
    {
      "cell_type": "markdown",
      "metadata": {
        "id": "KnIiL_-bo8_Y"
      },
      "source": [
        "## `Global` blocks\n",
        "Currently global blocks are not implemented. The reason for this is that it is easy to implement them in a few lines when needed. Here is an example of implementing a graph-to-global function with the respective aggregators:\n",
        "\n"
      ]
    },
    {
      "cell_type": "code",
      "metadata": {
        "id": "E2XSCY_5o_MR"
      },
      "source": [
        "from tf_gnns.graphnet_utils import make_keras_simple_agg\n",
        "from tensorflow.keras.layers import Input, Dense\n",
        "from tensorflow.keras import Model\n",
        "\n",
        "GN_STATE = 2\n",
        "global_state_out_size = 1\n",
        "def make_graph_tuple_to_global(insize = GN_STATE, agg_type = 'mean'):\n",
        "    \n",
        "    agg_fcn = make_keras_simple_agg(insize,agg_type) # from ibk_gnns import make_keras_simple_agg\n",
        "    agg_fcn = agg_fcn[1] # The graph tuple version of the aggregator\n",
        "    \n",
        "    # Constructing the node+edge -> global function. \n",
        "    xx = Input(shape = (insize,))\n",
        "    out = Dense(insize, 'relu')(xx)\n",
        "    out = Dense(insize, 'relu')(out)\n",
        "    out = Dense(global_state_out_size, activation = None, use_bias = False)(out)\n",
        "    global_fcn = Model(inputs = xx, outputs = out)\n",
        "    \n",
        "    def fcn_node_and_edge(gt):\n",
        "        # Aggregate the node and edge info:\n",
        "\n",
        "        # First, retrieve the segment IDs (as done on the full GN step with no global aggregation):\n",
        "        graph_indices_nodes = []\n",
        "        for k_,k in enumerate(gt.n_nodes):\n",
        "            graph_indices_nodes.extend(np.ones(k).astype(\"int\")*k_)\n",
        "\n",
        "        graph_indices_edges = []\n",
        "        for k_,k in enumerate(gt.n_edges):\n",
        "            graph_indices_edges.extend(np.ones(k).astype(\"int\")*k_)\n",
        "            \n",
        "        o1 = agg_fcn(gt.nodes,graph_indices_nodes, gt.n_graphs) # node_to_global aggregation\n",
        "        o2 = agg_fcn(gt.edges,graph_indices_edges, gt.n_graphs) # edge_to_global aggregation\n",
        "        return global_fcn(o1+o2) # either concat or add the aggregated information.\n",
        "\n",
        "    return fcn_node_and_edge, global_fcn #(the global fcn is also returned to later retrieve its weights)"
      ],
      "execution_count": 100,
      "outputs": []
    },
    {
      "cell_type": "code",
      "metadata": {
        "colab": {
          "base_uri": "https://localhost:8080/"
        },
        "id": "dquuy1kfs7s_",
        "outputId": "9ba2494f-313a-47ec-8fe4-650b8e4d1d4f"
      },
      "source": [
        "# Evaluation example:\n",
        "# gt_eval = eval_full_shared_resid_core(gt.copy())\n",
        "graph_tuple_to_global, global_fcn = make_graph_tuple_to_global(2,agg_type =\"mean\")"
      ],
      "execution_count": 101,
      "outputs": [
        {
          "output_type": "stream",
          "text": [
            "2\n"
          ],
          "name": "stdout"
        }
      ]
    },
    {
      "cell_type": "code",
      "metadata": {
        "colab": {
          "base_uri": "https://localhost:8080/"
        },
        "id": "ihf0xZ8ktaOT",
        "outputId": "e48a1246-e827-4740-9540-d52f9d554d2f"
      },
      "source": [
        "res = graph_tuple_to_global(gt_eval)\n",
        "print(\"%i graphs, %i dimensional output:\"%(gt.n_graphs, global_state_out_size))\n",
        "res"
      ],
      "execution_count": 102,
      "outputs": [
        {
          "output_type": "stream",
          "text": [
            "2 graphs, 1 dimensional output:\n"
          ],
          "name": "stdout"
        },
        {
          "output_type": "execute_result",
          "data": {
            "text/plain": [
              "<tf.Tensor: shape=(2, 1), dtype=float32, numpy=\n",
              "array([[0.00682549],\n",
              "       [0.        ]], dtype=float32)>"
            ]
          },
          "metadata": {
            "tags": []
          },
          "execution_count": 102
        }
      ]
    },
    {
      "cell_type": "markdown",
      "metadata": {
        "id": "7V3rMYVfuGYr"
      },
      "source": [
        "## All weights of a GN:\n",
        "Gathering the weights (trainable parameters) of `GraphNet` blocks in the `tf_gnns` is easy. Here is how to get all the parameters of the above computation:"
      ]
    },
    {
      "cell_type": "code",
      "metadata": {
        "id": "QwIBwzbZuzku"
      },
      "source": [
        "#all_weights  =[g.]\n",
        "all_weights=[]\n",
        "for g in gnns: # the encode/core/decode layers:\n",
        "    all_weights.append(g.weights())\n",
        "\n",
        "all_weights.append(global_fcn.weights) # The final \"graph to global\" layer.\n"
      ],
      "execution_count": 134,
      "outputs": []
    },
    {
      "cell_type": "markdown",
      "metadata": {
        "id": "S9xwRC0Wu4mS"
      },
      "source": [
        "# Taking gradients of the whole operation:\n",
        "The whole operation above is differentiable. Here is how to simply take gradients of the above with `tf.GradientTape()`:"
      ]
    },
    {
      "cell_type": "code",
      "metadata": {
        "id": "P5rm4kfa1VIb"
      },
      "source": [
        "import tensorflow as tf\n",
        "opt = tf.keras.optimizers.Adam(learning_rate = 0.001)"
      ],
      "execution_count": 119,
      "outputs": []
    },
    {
      "cell_type": "code",
      "metadata": {
        "id": "g-lKQHJwybRb"
      },
      "source": [
        "\n",
        "# Just some random numbers to work with:\n",
        "Y = np.random.randn(gt.n_graphs,global_state_out_size)\n",
        "def full_eval_with_global(G):\n",
        "    G = eval_full_shared_resid_core(G)\n",
        "    return graph_tuple_to_global(G)\n",
        "\n",
        "def loss(Ypred, Yactual):\n",
        "    return tf.reduce_mean(tf.square(Ypred - Yactual))\n",
        "\n",
        "# The following also gives us direct access to the gradients which may be \n",
        "# useful in some contexts:\n",
        "with tf.GradientTape() as tape:\n",
        "    Yhat = full_eval_with_global(gt.copy())\n",
        "    loss_current = loss(Yhat, Y)\n",
        "    grads = tape.gradient(loss_current,all_weights)\n",
        "    opt.apply_gradients(zip(grads,all_weighths))\n"
      ],
      "execution_count": 132,
      "outputs": []
    },
    {
      "cell_type": "markdown",
      "metadata": {
        "id": "j80LRib_0mVY"
      },
      "source": [
        "A plot of the gradient histograms from different blocks:"
      ]
    },
    {
      "cell_type": "code",
      "metadata": {
        "colab": {
          "base_uri": "https://localhost:8080/",
          "height": 269
        },
        "id": "_EhF0SfF4kSX",
        "outputId": "b44d86fe-a6f3-4b3a-d93c-d9150b39c650"
      },
      "source": [
        "import matplotlib.pyplot as plt\n",
        "\n",
        "sc = 0.5\n",
        "plt.figure(figsize = (20*sc,5*sc))\n",
        "\n",
        "plt.subplot(1,4,1)\n",
        "for k,name in enumerate(['encode','core','decode','global']):\n",
        "    plt.subplot(1,4,1+k)\n",
        "    # Encode network:\n",
        "    for g_ in grads[0]:\n",
        "        plt.hist(g_.numpy().flatten(), alpha = 0.9)\n",
        "\n",
        "    plt.grid()\n",
        "    plt.title(\"%s network\\nGrad. histogram\"%name)"
      ],
      "execution_count": 133,
      "outputs": [
        {
          "output_type": "stream",
          "text": [
            "/usr/local/lib/python3.6/dist-packages/ipykernel_launcher.py:8: MatplotlibDeprecationWarning: Adding an axes using the same arguments as a previous axes currently reuses the earlier instance.  In a future version, a new instance will always be created and returned.  Meanwhile, this warning can be suppressed, and the future behavior ensured, by passing a unique label to each axes instance.\n",
            "  \n"
          ],
          "name": "stderr"
        },
        {
          "output_type": "display_data",
          "data": {
            "image/png": "[encoded data removed]",
            "text/plain": [
              "<Figure size 720x180 with 4 Axes>"
            ]
          },
          "metadata": {
            "tags": [],
            "needs_background": "light"
          }
        }
      ]
    },
    {
      "cell_type": "markdown",
      "metadata": {
        "id": "4gluxhdt11dr"
      },
      "source": [
        "#TODO: \n",
        "Implement and test `tf.function` examples."
      ]
    }
  ]
}