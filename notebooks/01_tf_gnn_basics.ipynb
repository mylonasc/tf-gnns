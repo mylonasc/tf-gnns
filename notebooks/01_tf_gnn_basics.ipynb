{
  "nbformat": 4,
  "nbformat_minor": 0,
  "metadata": {
    "colab": {
      "name": "01-tf-gnn-basics.ipynb",
      "provenance": [],
      "collapsed_sections": []
    },
    "kernelspec": {
      "name": "python3",
      "display_name": "Python 3"
    }
  },
  "cells": [
    {
      "cell_type": "markdown",
      "metadata": {
        "id": "vln3LX7iYdts"
      },
      "source": [
        "# `tf_gnns`: A Hackable `graph_nets` library\n",
        "largely inspired by the `graph_nets` project.\n",
        "\n",
        "First install the library on the colab notebook and import it"
      ]
    },
    {
      "cell_type": "code",
      "metadata": {
        "colab": {
          "base_uri": "https://localhost:8080/"
        },
        "id": "8OZrOK7oJ9XW",
        "outputId": "aca9db3c-61b6-4e48-9206-e7fb7dd3b963"
      },
      "source": [
        "# Install the tf_gnns library with pip:\n",
        "!pip install tf_gnns==0.1.0\n",
        "import tf_gnns"
      ],
      "execution_count": 1,
      "outputs": [
        {
          "output_type": "stream",
          "text": [
            "Requirement already satisfied: tf_gnns==0.1.0 in /usr/local/lib/python3.6/dist-packages (0.1.0)\n",
            "loaded custom GN lib\n"
          ],
          "name": "stdout"
        }
      ]
    },
    {
      "cell_type": "markdown",
      "metadata": {
        "id": "38YcdOq2KIb6"
      },
      "source": [
        "# **GraphNet basics**\n",
        "The data-structure over which GraphNets (GNs) operate is an attributed multi-graph. In what follows some examples of definition of graphs are given.\n",
        "\n",
        "## Creating a single `Graph'\n",
        "In order to specify a `Graph' you need to specify a set of edges and nodes.\n",
        "\n"
      ]
    },
    {
      "cell_type": "code",
      "metadata": {
        "id": "wQfUezXNKOUi"
      },
      "source": [
        "# Creation of edges and nodes:\n",
        "import numpy as np\n",
        "from tf_gnns import Graph, Edge, Node\n",
        "\n",
        "nw_state_size = 10 # the state of the node and edge attributes. They can be different if necessary.\n",
        "\n",
        "# Defining the connectivity of a graph:\n",
        "adj_A = [(2,4),(3,4),(2,2) , (2,5),(5,1),(1,2),(2,3),(3,4),(4,5),(6,5),(7,6),(8,7)]\n",
        "\n",
        "nodes_A = [Node(np.random.randn(1,nw_state_size)) for n in range(10)]\n",
        "edges_A = [Edge(np.random.randn(1,nw_state_size), node_from= nodes_A[e_ij[0]], node_to= nodes_A[e_ij[1]]) for e_ij in adj_A]\n",
        "graph_A = Graph(nodes=nodes_A, edges= edges_A)"
      ],
      "execution_count": 2,
      "outputs": []
    },
    {
      "cell_type": "markdown",
      "metadata": {
        "id": "3Zt-TYiiaG1f"
      },
      "source": [
        "For more expressivity some operations are over-loaded. Inspect the docstrings and the source code directly when not sure what happens. "
      ]
    },
    {
      "cell_type": "code",
      "metadata": {
        "colab": {
          "base_uri": "https://localhost:8080/"
        },
        "id": "Kt_Kx5XMaYCO",
        "outputId": "b2da20ce-5307-4cdc-da13-56ee85b9802d"
      },
      "source": [
        "help(graph_A.__add__)"
      ],
      "execution_count": 3,
      "outputs": [
        {
          "output_type": "stream",
          "text": [
            "Help on method __add__ in module tf_gnns.datastructures:\n",
            "\n",
            "__add__(graph) method of tf_gnns.datastructures.Graph instance\n",
            "    This should only work with graphs that have compatible node and edge features\n",
            "    Assumed also that the two graphs have the same connectivity (otherwise this will fail ugly)\n",
            "\n"
          ],
          "name": "stdout"
        }
      ]
    },
    {
      "cell_type": "markdown",
      "metadata": {
        "id": "fiisOCW1KsJa"
      },
      "source": [
        "Simple graphs are not convenient for bached computation and in general should be avoided. Sometimes it may be \"safer\" to use graphs as a datastructure for experimentation on new algorithms. \n",
        "\n",
        "For most use-cases a `GraphTuple' should be used. `GraphTuples' are the only datastructures supported from the `graph_nets' library.\n",
        "\n",
        "## Creating a `GraphTuple`"
      ]
    },
    {
      "cell_type": "markdown",
      "metadata": {
        "id": "U08TIII0aiOF"
      },
      "source": [
        "# The `GraphTuple` data structure\n",
        "The `GraphTuple` is a set of graphs packed into an object that allows for easier parallelization of the `GraphNet` computation block. It is the default (and only) possible data-structure in DeepMind's GraphNets library.\n",
        "You can either create a `GraphTuple` directly from tensors or numpy arrays or by a list of `Graph` objects (as above). Utilities are provided to perform such manipulations. Note that in general it's better to avoid using `Graph`s alltogether, but they are useful for testing.\n",
        "\n",
        "Here is how to create a `GraphTuple` from a list of `Graph` objects:"
      ]
    },
    {
      "cell_type": "code",
      "metadata": {
        "id": "tNZYYcuZa8Fh"
      },
      "source": [
        "from tf_gnns import make_graph_tuple_from_graph_list\n",
        "\n",
        "# Some graphs to compute with:\n",
        "adj_A = [(2,4),(3,4),(2,2) , (2,5),(5,1),(1,2),(2,3),(3,4),(4,5),(6,5),(7,6),(4,2)]\n",
        "adj_B = [(3,4),(2,2) , (2,5),(5,1),(1,2),(2,3),(3,4),(4,5),(6,5),(7,6),(8,9)]\n",
        "\n",
        "nw_state_size  = 2\n",
        "\n",
        "nodes_A = [Node(np.random.randn(1,nw_state_size)) for n in range(15)]\n",
        "edges_A = [Edge(np.random.randn(1,nw_state_size), node_from= nodes_A[e_ij[0]], node_to= nodes_A[e_ij[1]]) for e_ij in adj_A]\n",
        "graph_A = Graph(nodes=nodes_A, edges= edges_A)\n",
        "                \n",
        "nodes_B = [Node(np.random.randn(1,nw_state_size)) for n in range(10)]\n",
        "edges_B = [Edge(np.random.randn(1,nw_state_size), node_from=nodes_B[e_ij[0]], node_to = nodes_B[e_ij[1]]) for e_ij in adj_B]\n",
        "graph_B = Graph(nodes=nodes_B, edges= edges_B)\n",
        "gt = make_graph_tuple_from_graph_list([graph_A, graph_B])"
      ],
      "execution_count": 4,
      "outputs": []
    },
    {
      "cell_type": "code",
      "metadata": {
        "colab": {
          "base_uri": "https://localhost:8080/"
        },
        "id": "0eU4-zIDbLoH",
        "outputId": "85b4c163-db7c-48ed-9614-2d554e06832f"
      },
      "source": [
        "print(\"number of nodes of graphtuple:\")\n",
        "print(gt.nodes.shape[0])\n",
        "\n",
        "print('GraphTuple tensor shapes:')\n",
        "print(gt.nodes.shape, gt.edges.shape)\n",
        "\n",
        "print(\"Shapes of a single node from graph_A: [%i,%i]\"%(graph_A.nodes[0].shape))\n",
        "\n",
        "\n",
        "print(\"Number of nodes of graphs: A: %i, B: %i\"%(len(graph_A.nodes), len(graph_B.nodes)))\n",
        "print(\"\")\n",
        "print(\"size of node attributes: [%i]\"%( graph_A.nodes[0].node_attr_tensor.shape[-1]))\n",
        "print(\"size of edge attributes: [%i]\"%(  graph_A.edges[0].edge_tensor.shape[-1]))"
      ],
      "execution_count": 5,
      "outputs": [
        {
          "output_type": "stream",
          "text": [
            "number of nodes of graphtuple:\n",
            "25\n",
            "GraphTuple tensor shapes:\n",
            "(25, 2) (23, 2)\n",
            "Shapes of a single node from graph_A: [1,2]\n",
            "Number of nodes of graphs: A: 15, B: 10\n",
            "\n",
            "size of node attributes: [2]\n",
            "size of edge attributes: [2]\n"
          ],
          "name": "stdout"
        }
      ]
    },
    {
      "cell_type": "markdown",
      "metadata": {
        "id": "eaBvkXVkbz0D"
      },
      "source": [
        "# **Creating a Custom `GraphNet`**\n",
        "\n",
        "In order to create a GraphNet (without global variables) one needs to define the following:\n",
        "\n",
        "* node function\n",
        "* an edge function\n",
        "* an edge aggregation function (except if a GraphIndependent network is implemented)\n",
        "\n",
        "In addition to that, one needs to pay attention that the input sizes of the node and edge function are consistent with the input graph, the edge aggregation function (if it exists) has to have outputs consistent with expected inputs of the node function (if the graph is not graph independet). Moreover, each of these functions have potentially different inputs related to the input graph.\n",
        "\n",
        "For instance:\n",
        "\n",
        "* Edge functions may have as inputs (\n",
        "    1) the edge state, \n",
        "    2) the sender node state, \n",
        "    3) the receiver node state\n",
        "\n",
        "* Node functions may have as inputs \n",
        "    1) the node state \n",
        "    2) an aggregated message incoming from the edges that point to that node. \n",
        "    \n",
        "These cases are identified internally by the naming of the inputs of the provided functions. See the examples to understand how to implement your own in case you want something special to happen in these functions. The `tf_gnns` library is built with `tf.keras` in mind and defines constraints to help development in a way that it exploits simple keras constructs (such as naming of inputs and output variables and the functional API of keras (`tf.keras.Model`) to facilitate building `GraphNets`. In contrast, DeepMind's GraphNet library uses Sonnet for that reason, and puts constraints on how computation and model construction happens for the same purpose. For some use-cases (such as implementation of bootstrapping or potential extensions on sparse graphs) It was found this was not very convenient - this is why this library was built.\n",
        "\n"
      ]
    },
    {
      "cell_type": "code",
      "metadata": {
        "colab": {
          "base_uri": "https://localhost:8080/"
        },
        "id": "SNodjfRfcHJO",
        "outputId": "bdfe054a-d794-4bfa-d4e3-04730b1a0409"
      },
      "source": [
        "from tf_gnns import make_mlp_graphnet_functions, GraphNet, Node, Edge, Graph, GraphTuple, make_graph_tuple_from_graph_list\n",
        "## Naming:\n",
        "# ... _enc  : parameter of encoder block GNN (graph indep.)\n",
        "# ... _core : parameter of core block GNN \n",
        "# ... _dec  : parameter of decoder block GNN\n",
        "gnn_size = 50;\n",
        "node_input_size_enc, node_output_size_enc = [2, 10]\n",
        "node_input_size_core, node_output_size_core = [10, 10]\n",
        "node_input_size_dec, node_output_size_dec = [10,2]\n",
        "\n",
        "edge_input_size_enc  = 2\n",
        "edge_output_size_dec = 2\n",
        "\n",
        "graph_fcn_enc = make_mlp_graphnet_functions(gnn_size,\n",
        "                                          node_input_size = node_input_size_enc,\n",
        "                                          node_output_size = node_output_size_enc,\n",
        "                                          edge_input_size =  edge_input_size_enc,\n",
        "                                          graph_indep=True)\n",
        "\n",
        "graph_fcn_core = make_mlp_graphnet_functions(gnn_size,\n",
        "                                          node_input_size = node_input_size_core, \n",
        "                                          node_output_size = node_output_size_core, \n",
        "                                          graph_indep=False)\n",
        "\n",
        "graph_fcn_dec = make_mlp_graphnet_functions(gnn_size,\n",
        "                                          node_input_size = node_input_size_dec, \n",
        "                                          node_output_size = node_output_size_dec, \n",
        "                                          edge_output_size= edge_output_size_dec,\n",
        "                                          graph_indep=True)\n",
        "\n",
        "\n",
        "graph_fcn_enc['graph_independent'] = True\n",
        "graph_fcn_dec['graph_independent'] = True\n",
        "\n",
        "gnn_dicts = [graph_fcn_enc, graph_fcn_core, graph_fcn_enc]\n",
        "\n",
        "gnns = [GraphNet(**fcns) for fcns in [graph_fcn_enc,graph_fcn_core,graph_fcn_dec]] # A full encode-core-decode set of GNNs. One may eval. the core block multiple times.\n",
        "    "
      ],
      "execution_count": 6,
      "outputs": [
        {
          "output_type": "stream",
          "text": [
            "[None, 10]\n"
          ],
          "name": "stdout"
        }
      ]
    },
    {
      "cell_type": "markdown",
      "metadata": {
        "id": "CDMVNfemgOsD"
      },
      "source": [
        "In the example above `make_mlp_graphnet_functions` is a factory method. It conveniently returns a set of functions (keras models) that are in turn used to create GNNs.\n",
        "\n"
      ]
    },
    {
      "cell_type": "code",
      "metadata": {
        "colab": {
          "base_uri": "https://localhost:8080/"
        },
        "id": "AeUjRGf9j0c5",
        "outputId": "d4849e03-b53c-4c79-c47a-a0139cc41a7a"
      },
      "source": [
        "help(make_mlp_graphnet_functions)"
      ],
      "execution_count": 7,
      "outputs": [
        {
          "output_type": "stream",
          "text": [
            "Help on function make_mlp_graphnet_functions in module tf_gnns.graphnet_utils:\n",
            "\n",
            "make_mlp_graphnet_functions(units, node_input_size, node_output_size, edge_input_size=None, edge_output_size=None, graph_indep=False, message_size=None, aggregation_function='mean')\n",
            "    Make the 3 functions that define the graph (no Nodes to Global and Edges to Global)\n",
            "    * If `edge_input_size' and `edge_output_size' are not defined (None) \n",
            "      It is assumed that all inputs and all outputs are the same shape for nodes and edges.\n",
            "    \n",
            "    parameters:\n",
            "      node_input_size  : shape of the node state of the incoming graph.\n",
            "      node_output_size : shape of the node state of the output graph\n",
            "      edge_input_size  : (optional) the shape of the edge attributes of the input graph (defaults to node_input_size)\n",
            "      edge_output_size : (optional) the shape of the edge attributes of the output graph (defaults to node_output_size)\n",
            "      graph_indep      : default: False - whether message passing happens in this graphNet (if not it is a \"graph-independent\" GN)\n",
            "      message_size     : (optional) the size of the passed message - this can be different from the edge-state output size! \n",
            "                         What this affects is what goes into the aggregator and to the node-function. Edge state can still be whatever.\n",
            "\n"
          ],
          "name": "stdout"
        }
      ]
    },
    {
      "cell_type": "markdown",
      "metadata": {
        "id": "SXWq1OZFj2Ul"
      },
      "source": [
        "Each of the GraphNets can be easilly saved using the `.save` method. You can invoke the summary method of any of these GNNs to inspect the inputs and outputs of the GN functions:"
      ]
    },
    {
      "cell_type": "code",
      "metadata": {
        "colab": {
          "base_uri": "https://localhost:8080/"
        },
        "id": "GPNUzitpkZxc",
        "outputId": "ccb59fa8-6b16-409a-bf1d-abf556bd6738"
      },
      "source": [
        "gnns[0].summary()"
      ],
      "execution_count": 8,
      "outputs": [
        {
          "output_type": "stream",
          "text": [
            "Summary of all GraphNet functions\n",
            "Node function\n",
            "Model: \"model_1\"\n",
            "_________________________________________________________________\n",
            "Layer (type)                 Output Shape              Param #   \n",
            "=================================================================\n",
            "node_state (InputLayer)      [(None, 2)]               0         \n",
            "_________________________________________________________________\n",
            "dense_4 (Dense)              (None, 50)                150       \n",
            "_________________________________________________________________\n",
            "dropout_2 (Dropout)          (None, 50)                0         \n",
            "_________________________________________________________________\n",
            "dense_5 (Dense)              (None, 50)                2550      \n",
            "_________________________________________________________________\n",
            "dropout_3 (Dropout)          (None, 50)                0         \n",
            "_________________________________________________________________\n",
            "dense_6 (Dense)              (None, 50)                2550      \n",
            "_________________________________________________________________\n",
            "dense_7 (Dense)              (None, 10)                510       \n",
            "=================================================================\n",
            "Total params: 5,760\n",
            "Trainable params: 5,760\n",
            "Non-trainable params: 0\n",
            "_________________________________________________________________\n",
            "\n",
            "Edge function\n",
            "Model: \"model\"\n",
            "_________________________________________________________________\n",
            "Layer (type)                 Output Shape              Param #   \n",
            "=================================================================\n",
            "edge_state (InputLayer)      [(None, 2)]               0         \n",
            "_________________________________________________________________\n",
            "dense (Dense)                (None, 50)                150       \n",
            "_________________________________________________________________\n",
            "dropout (Dropout)            (None, 50)                0         \n",
            "_________________________________________________________________\n",
            "dense_1 (Dense)              (None, 50)                2550      \n",
            "_________________________________________________________________\n",
            "dropout_1 (Dropout)          (None, 50)                0         \n",
            "_________________________________________________________________\n",
            "dense_2 (Dense)              (None, 50)                2550      \n",
            "_________________________________________________________________\n",
            "dense_3 (Dense)              (None, 10)                510       \n",
            "=================================================================\n",
            "Total params: 5,760\n",
            "Trainable params: 5,760\n",
            "Non-trainable params: 0\n",
            "_________________________________________________________________\n",
            "\n",
            "Edge Agg. function\n",
            "Model: \"model\"\n",
            "_________________________________________________________________\n",
            "Layer (type)                 Output Shape              Param #   \n",
            "=================================================================\n",
            "edge_state (InputLayer)      [(None, 2)]               0         \n",
            "_________________________________________________________________\n",
            "dense (Dense)                (None, 50)                150       \n",
            "_________________________________________________________________\n",
            "dropout (Dropout)            (None, 50)                0         \n",
            "_________________________________________________________________\n",
            "dense_1 (Dense)              (None, 50)                2550      \n",
            "_________________________________________________________________\n",
            "dropout_1 (Dropout)          (None, 50)                0         \n",
            "_________________________________________________________________\n",
            "dense_2 (Dense)              (None, 50)                2550      \n",
            "_________________________________________________________________\n",
            "dense_3 (Dense)              (None, 10)                510       \n",
            "=================================================================\n",
            "Total params: 5,760\n",
            "Trainable params: 5,760\n",
            "Non-trainable params: 0\n",
            "_________________________________________________________________\n",
            "\n"
          ],
          "name": "stdout"
        }
      ]
    },
    {
      "cell_type": "markdown",
      "metadata": {
        "id": "h9nNnRAzkcRh"
      },
      "source": [
        "The overloaded `__add__()` operator shown above, comes in handy when computing residual connections:"
      ]
    },
    {
      "cell_type": "code",
      "metadata": {
        "id": "nzBrWl9ZmMQ_"
      },
      "source": [
        "CORE_STEPS = 2\n",
        "def eval_full_shared_resid_core(G : GraphTuple, core_steps =CORE_STEPS):\n",
        "    ## The actual computation\n",
        "    G = gnns[0].graph_tuple_eval(G) # The \"encode\" GraphNet block \n",
        "\n",
        "    for ncore in range(0,core_steps):\n",
        "        # gnns[1] is the \"core\" GraphNet block\n",
        "        G += gnns[1].graph_tuple_eval(G) # Overloaded sum operator - assign-add implements the residual connection (no projection needed - same size)\n",
        "        \n",
        "    G = gnns[-1].graph_tuple_eval(G)\n",
        "\n",
        "    return G"
      ],
      "execution_count": 9,
      "outputs": []
    },
    {
      "cell_type": "code",
      "metadata": {
        "id": "Hj3JArLQmRHa"
      },
      "source": [
        "gt_eval = eval_full_shared_resid_core(gt.copy())"
      ],
      "execution_count": 10,
      "outputs": []
    },
    {
      "cell_type": "code",
      "metadata": {
        "colab": {
          "base_uri": "https://localhost:8080/"
        },
        "id": "t5tZrJUbnyJV",
        "outputId": "f82ebf45-0133-4f07-9dd0-f911bb89b346"
      },
      "source": [
        "print(\"Output GraphTuple:\")\n",
        "edges_shape, nodes_shape = gt_eval.edges.shape.as_list(),gt_eval.nodes.shape.as_list()\n",
        "print(\"  nodes shape: [%i,%i]\"%(nodes_shape[0], nodes_shape[1]))\n",
        "print(\"  edges shape: [%i,%i]\"%(edges_shape[0], edges_shape[1]))\n"
      ],
      "execution_count": 11,
      "outputs": [
        {
          "output_type": "stream",
          "text": [
            "Output GraphTuple:\n",
            "  nodes shape: [25,2]\n",
            "  edges shape: [23,2]\n"
          ],
          "name": "stdout"
        }
      ]
    },
    {
      "cell_type": "markdown",
      "metadata": {
        "id": "KnIiL_-bo8_Y"
      },
      "source": [
        "## `Global` blocks\n",
        "Currently global blocks are not implemented. The reason for this is that it is easy to implement them in a few lines when needed. Here is an example of implementing a graph-to-global function with the respective aggregators:\n",
        "\n"
      ]
    },
    {
      "cell_type": "code",
      "metadata": {
        "id": "E2XSCY_5o_MR"
      },
      "source": [
        "from tf_gnns.graphnet_utils import make_keras_simple_agg\n",
        "from tensorflow.keras.layers import Input, Dense\n",
        "from tensorflow.keras import Model\n",
        "\n",
        "GN_STATE = 2\n",
        "global_state_out_size = 10\n",
        "def make_graph_tuple_to_global(insize = GN_STATE, agg_type = 'mean'):\n",
        "    \n",
        "    agg_fcn = make_keras_simple_agg(insize,agg_type) # from ibk_gnns import make_keras_simple_agg\n",
        "    agg_fcn = agg_fcn[1] # The graph tuple version of the aggregator\n",
        "    \n",
        "    # Constructing the node+edge -> global function. \n",
        "    xx = Input(shape = (insize,))\n",
        "    out = Dense(insize, 'relu')(xx)\n",
        "    out = Dense(insize, 'relu')(out)\n",
        "    out = Dense(global_state_out_size, activation = None, use_bias = False)(out)\n",
        "    global_fcn = Model(inputs = xx, outputs = out)\n",
        "    \n",
        "    def fcn_node_and_edge(gt):\n",
        "        # Aggregate the node and edge info:\n",
        "\n",
        "        # First, retrieve the segment IDs (as done on the full GN step with no global aggregation):\n",
        "        graph_indices_nodes = []\n",
        "        for k_,k in enumerate(gt.n_nodes):\n",
        "            graph_indices_nodes.extend(np.ones(k).astype(\"int\")*k_)\n",
        "\n",
        "        graph_indices_edges = []\n",
        "        for k_,k in enumerate(gt.n_edges):\n",
        "            graph_indices_edges.extend(np.ones(k).astype(\"int\")*k_)\n",
        "            \n",
        "        o1 = agg_fcn(gt.nodes,graph_indices_nodes, gt.n_graphs) # node_to_global aggregation\n",
        "        o2 = agg_fcn(gt.edges,graph_indices_edges, gt.n_graphs) # edge_to_global aggregation\n",
        "        return global_fcn(o1+o2) # either concat or add the aggregated information.\n",
        "\n",
        "    return fcn_node_and_edge, global_fcn #(the global fcn is also returned to later retrieve its weights)"
      ],
      "execution_count": 12,
      "outputs": []
    },
    {
      "cell_type": "code",
      "metadata": {
        "colab": {
          "base_uri": "https://localhost:8080/"
        },
        "id": "dquuy1kfs7s_",
        "outputId": "eaa21f72-c3e9-4a4c-8346-e52790fc0db6"
      },
      "source": [
        "# Evaluation example:\n",
        "# gt_eval = eval_full_shared_resid_core(gt.copy())\n",
        "graph_tuple_to_global, global_fcn = make_graph_tuple_to_global(2,agg_type =\"mean\")"
      ],
      "execution_count": 13,
      "outputs": [
        {
          "output_type": "stream",
          "text": [
            "2\n"
          ],
          "name": "stdout"
        }
      ]
    },
    {
      "cell_type": "code",
      "metadata": {
        "colab": {
          "base_uri": "https://localhost:8080/"
        },
        "id": "ihf0xZ8ktaOT",
        "outputId": "9cdb12b1-ea47-43ae-ac88-f5eadceb89c0"
      },
      "source": [
        "res = graph_tuple_to_global(gt_eval)\n",
        "print(\"%i graphs, %i dimensional output:\"%(gt.n_graphs, global_state_out_size))\n",
        "res"
      ],
      "execution_count": 14,
      "outputs": [
        {
          "output_type": "stream",
          "text": [
            "2 graphs, 10 dimensional output:\n"
          ],
          "name": "stdout"
        },
        {
          "output_type": "execute_result",
          "data": {
            "text/plain": [
              "<tf.Tensor: shape=(2, 10), dtype=float32, numpy=\n",
              "array([[-0.00238549,  0.00548786,  0.00585102, -0.00750147, -0.00308936,\n",
              "        -0.00110797,  0.0116007 , -0.01106878,  0.00226608,  0.01304719],\n",
              "       [ 0.        ,  0.        ,  0.        ,  0.        ,  0.        ,\n",
              "         0.        ,  0.        ,  0.        ,  0.        ,  0.        ]],\n",
              "      dtype=float32)>"
            ]
          },
          "metadata": {
            "tags": []
          },
          "execution_count": 14
        }
      ]
    },
    {
      "cell_type": "markdown",
      "metadata": {
        "id": "7V3rMYVfuGYr"
      },
      "source": [
        "## All weights of a GN:\n",
        "Gathering the weights (trainable parameters) of `GraphNet` blocks in the `tf_gnns` is easy. Here is how to get all the parameters of the above computation:"
      ]
    },
    {
      "cell_type": "code",
      "metadata": {
        "id": "QwIBwzbZuzku"
      },
      "source": [
        "\n",
        "all_weights=[]\n",
        "for g in gnns: # the encode/core/decode layers:\n",
        "    ww = g.weights()\n",
        "    all_weights.extend(ww)\n",
        "\n",
        "all_weights.extend(global_fcn.weights) # The final \"graph to global\" layer.\n"
      ],
      "execution_count": 15,
      "outputs": []
    },
    {
      "cell_type": "markdown",
      "metadata": {
        "id": "S9xwRC0Wu4mS"
      },
      "source": [
        "# Taking gradients of the whole operation:\n",
        "The whole operation above is differentiable. Here is how to simply take gradients of the above with `tf.GradientTape()`:"
      ]
    },
    {
      "cell_type": "code",
      "metadata": {
        "id": "P5rm4kfa1VIb"
      },
      "source": [
        "import tensorflow as tf\n",
        "opt = tf.keras.optimizers.Adam(learning_rate = 0.001)"
      ],
      "execution_count": 16,
      "outputs": []
    },
    {
      "cell_type": "code",
      "metadata": {
        "id": "g-lKQHJwybRb"
      },
      "source": [
        "\n",
        "# Just some random numbers to work with:\n",
        "Y = np.random.randn(gt.n_graphs,global_state_out_size)\n",
        "def full_eval_with_global(G):\n",
        "    G = eval_full_shared_resid_core(G)\n",
        "    return graph_tuple_to_global(G)\n",
        "\n",
        "def loss(Ypred, Yactual):\n",
        "    return tf.reduce_mean(tf.square(Ypred - Yactual))\n",
        "\n",
        "# The following also gives us direct access to the gradients which may be \n",
        "# useful in some contexts:\n",
        "with tf.GradientTape() as tape:\n",
        "    Yhat = full_eval_with_global(gt.copy())\n",
        "    loss_current = loss(Yhat, Y)\n",
        "    grads = tape.gradient(loss_current,all_weights)\n",
        "    opt.apply_gradients(zip(grads,all_weights))\n"
      ],
      "execution_count": 17,
      "outputs": []
    },
    {
      "cell_type": "code",
      "metadata": {
        "id": "I_1K5jH2D3m3",
        "outputId": "9849490f-0755-474a-fc6b-ad98a9b27a0d",
        "colab": {
          "base_uri": "https://localhost:8080/"
        }
      },
      "source": [
        "nweights_per_block = [len(g.weights()) for g in gnns]\n",
        "nweights_per_block.append(len(global_fcn.weights))\n",
        "cumsum_nweights_per_block = np.cumsum([0,*nweights_per_block])\n",
        "cumsum_nweights_per_block"
      ],
      "execution_count": 18,
      "outputs": [
        {
          "output_type": "execute_result",
          "data": {
            "text/plain": [
              "array([ 0, 16, 32, 48, 53])"
            ]
          },
          "metadata": {
            "tags": []
          },
          "execution_count": 18
        }
      ]
    },
    {
      "cell_type": "markdown",
      "metadata": {
        "id": "j80LRib_0mVY"
      },
      "source": [
        "A plot of the gradient histograms from different blocks:"
      ]
    },
    {
      "cell_type": "code",
      "metadata": {
        "colab": {
          "base_uri": "https://localhost:8080/",
          "height": 267
        },
        "id": "_EhF0SfF4kSX",
        "outputId": "966e7173-bf6d-48b1-935e-0a7731e04890"
      },
      "source": [
        "import matplotlib.pyplot as plt\n",
        "\n",
        "sc = 0.5\n",
        "plt.figure(figsize = (20*sc,5*sc))\n",
        "\n",
        "plt.subplot(1,4,1)\n",
        "for k,name in enumerate(['encode','core','decode','global']):\n",
        "    plt.subplot(1,4,1+k)\n",
        "    # Encode network:\n",
        "    start_idx, end_idx = cumsum_nweights_per_block[k:k+2]\n",
        "    for g_ in grads[start_idx:end_idx]:\n",
        "        plt.hist(g_.numpy().flatten(), alpha = 0.9)\n",
        "\n",
        "    plt.grid()\n",
        "    plt.title(\"%s network\\nGrad. histogram\"%name)"
      ],
      "execution_count": 19,
      "outputs": [
        {
          "output_type": "stream",
          "text": [
            "/usr/local/lib/python3.6/dist-packages/ipykernel_launcher.py:8: MatplotlibDeprecationWarning: Adding an axes using the same arguments as a previous axes currently reuses the earlier instance.  In a future version, a new instance will always be created and returned.  Meanwhile, this warning can be suppressed, and the future behavior ensured, by passing a unique label to each axes instance.\n",
            "  \n"
          ],
          "name": "stderr"
        },
        {
          "output_type": "display_data",
          "data": {
            "image/png": "[encoded data removed]",
            "text/plain": [
              "<Figure size 720x180 with 4 Axes>"
            ]
          },
          "metadata": {
            "tags": [],
            "needs_background": "light"
          }
        }
      ]
    },
    {
      "cell_type": "markdown",
      "metadata": {
        "id": "4gluxhdt11dr"
      },
      "source": [
        "#TODO: \n",
        "Implement and test `tf.function` examples."
      ]
    }
  ]
}