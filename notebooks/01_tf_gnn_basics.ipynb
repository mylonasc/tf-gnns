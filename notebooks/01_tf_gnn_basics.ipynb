{
 "cells": [
  {
   "cell_type": "markdown",
   "metadata": {
    "id": "vln3LX7iYdts"
   },
   "source": [
    "# `tf_gnns`: A Hackable `graph_nets` library\n",
    "largely inspired by the `graph_nets` project.\n",
    "\n",
    "First install the library on the colab notebook and import it"
   ]
  },
  {
   "cell_type": "code",
   "execution_count": 1,
   "metadata": {
    "id": "8OZrOK7oJ9XW"
   },
   "outputs": [
    {
     "name": "stdout",
     "output_type": "stream",
     "text": [
      "Defaulting to user installation because normal site-packages is not writeable\n",
      "Looking in indexes: https://test.pypi.org/simple/\n",
      "Requirement already satisfied: tf-gnns-mylonasc==0.1.3b0 in /home/charilaos/.local/lib/python3.8/site-packages (0.1.3b0)\n",
      "loaded tfgnn lib\n"
     ]
    }
   ],
   "source": [
    "# Install the tf_gnns library with pip:\n",
    "!pip install tf_gnns==0.1.2b\n",
    "import tf_gnns"
   ]
  },
  {
   "cell_type": "markdown",
   "metadata": {
    "id": "38YcdOq2KIb6"
   },
   "source": [
    "# **GraphNet basics**\n",
    "The data-structure over which GraphNets (GNs) operate is an attributed multi-graph. In what follows some examples of definition of graphs are given.\n",
    "\n",
    "## Creating a single `Graph'\n",
    "In order to specify a `Graph' you need to specify a set of edges and nodes.\n",
    "\n"
   ]
  },
  {
   "cell_type": "code",
   "execution_count": 3,
   "metadata": {
    "id": "wQfUezXNKOUi"
   },
   "outputs": [],
   "source": [
    "# Creation of edges and nodes:\n",
    "import numpy as np\n",
    "from tf_gnns import Graph, Edge, Node\n",
    "\n",
    "nw_state_size = 10 # the state of the node and edge attributes. They can be different if necessary.\n",
    "\n",
    "# Defining the connectivity of a graph:\n",
    "adj_A = [(2,4),(3,4),(2,2) , (2,5),(5,1),(1,2),(2,3),(3,4),(4,5),(6,5),(7,6),(8,7)]\n",
    "\n",
    "nodes_A = [Node(np.random.randn(1,nw_state_size)) for n in range(10)]\n",
    "edges_A = [Edge(np.random.randn(1,nw_state_size), node_from= nodes_A[e_ij[0]], node_to= nodes_A[e_ij[1]]) for e_ij in adj_A]\n",
    "graph_A = Graph(nodes=nodes_A, edges= edges_A)"
   ]
  },
  {
   "cell_type": "markdown",
   "metadata": {
    "id": "3Zt-TYiiaG1f"
   },
   "source": [
    "For more expressivity some operations are over-loaded. Inspect the docstrings and the source code directly when not sure what happens. "
   ]
  },
  {
   "cell_type": "code",
   "execution_count": 4,
   "metadata": {
    "colab": {
     "base_uri": "https://localhost:8080/"
    },
    "id": "Kt_Kx5XMaYCO",
    "outputId": "1ea575ba-10a6-45c2-c218-6f923f1ffe40"
   },
   "outputs": [
    {
     "name": "stdout",
     "output_type": "stream",
     "text": [
      "Help on method __add__ in module tf_gnns.datastructures:\n",
      "\n",
      "__add__(graph) method of tf_gnns.datastructures.Graph instance\n",
      "    This should only work with graphs that have compatible node and edge features\n",
      "    Assumed also that the two graphs have the same connectivity (otherwise this will fail ugly)\n",
      "\n"
     ]
    }
   ],
   "source": [
    "help(graph_A.__add__)"
   ]
  },
  {
   "cell_type": "markdown",
   "metadata": {
    "id": "fiisOCW1KsJa"
   },
   "source": [
    "Simple graphs are not convenient for bached computation and in general should be avoided. Sometimes it may be \"safer\" to use graphs as a datastructure for experimentation on new algorithms. \n",
    "\n",
    "For most use-cases a `GraphTuple' should be used. `GraphTuples' are the only datastructures supported from the `graph_nets' library.\n",
    "\n",
    "## Creating a `GraphTuple`"
   ]
  },
  {
   "cell_type": "markdown",
   "metadata": {
    "id": "U08TIII0aiOF"
   },
   "source": [
    "# The `GraphTuple` data structure\n",
    "The `GraphTuple` is a set of graphs packed into an object that allows for easier parallelization of the `GraphNet` computation block. It is the default (and only) possible data-structure in DeepMind's GraphNets library.\n",
    "You can either create a `GraphTuple` directly from tensors or numpy arrays or by a list of `Graph` objects (as above). Utilities are provided to perform such manipulations. Note that in general it's better to avoid using `Graph`s alltogether, but they are useful for testing.\n",
    "\n",
    "Here is how to create a `GraphTuple` from a list of `Graph` objects:"
   ]
  },
  {
   "cell_type": "code",
   "execution_count": 5,
   "metadata": {
    "id": "tNZYYcuZa8Fh"
   },
   "outputs": [],
   "source": [
    "from tf_gnns import make_graph_tuple_from_graph_list\n",
    "\n",
    "# Some graphs to compute with:\n",
    "adj_A = [(2,4),(3,4),(2,2) , (2,5),(5,1),(1,2),(2,3),(3,4),(4,5),(6,5),(7,6),(4,2)]\n",
    "adj_B = [(3,4),(2,2) , (2,5),(5,1),(1,2),(2,3),(3,4),(4,5),(6,5),(7,6),(8,9)]\n",
    "\n",
    "nw_state_size  = 2\n",
    "\n",
    "nodes_A = [Node(np.random.randn(1,nw_state_size)) for n in range(15)]\n",
    "edges_A = [Edge(np.random.randn(1,nw_state_size), node_from= nodes_A[e_ij[0]], node_to= nodes_A[e_ij[1]]) for e_ij in adj_A]\n",
    "graph_A = Graph(nodes=nodes_A, edges= edges_A)\n",
    "                \n",
    "nodes_B = [Node(np.random.randn(1,nw_state_size)) for n in range(10)]\n",
    "edges_B = [Edge(np.random.randn(1,nw_state_size), node_from=nodes_B[e_ij[0]], node_to = nodes_B[e_ij[1]]) for e_ij in adj_B]\n",
    "graph_B = Graph(nodes=nodes_B, edges= edges_B)\n",
    "gt = make_graph_tuple_from_graph_list([graph_A, graph_B])"
   ]
  },
  {
   "cell_type": "code",
   "execution_count": 6,
   "metadata": {
    "colab": {
     "base_uri": "https://localhost:8080/"
    },
    "id": "0eU4-zIDbLoH",
    "outputId": "84623566-7d43-4289-aa4d-60574652e8f0"
   },
   "outputs": [
    {
     "name": "stdout",
     "output_type": "stream",
     "text": [
      "number of nodes of graphtuple:\n",
      "25\n",
      "GraphTuple tensor shapes:\n",
      "(25, 2) (23, 2)\n",
      "Shapes of a single node from graph_A: [1,2]\n",
      "Number of nodes of graphs: A: 15, B: 10\n",
      "\n",
      "size of node attributes: [2]\n",
      "size of edge attributes: [2]\n"
     ]
    }
   ],
   "source": [
    "print(\"number of nodes of graphtuple:\")\n",
    "print(gt.nodes.shape[0])\n",
    "\n",
    "print('GraphTuple tensor shapes:')\n",
    "print(gt.nodes.shape, gt.edges.shape)\n",
    "\n",
    "print(\"Shapes of a single node from graph_A: [%i,%i]\"%(graph_A.nodes[0].shape))\n",
    "\n",
    "\n",
    "print(\"Number of nodes of graphs: A: %i, B: %i\"%(len(graph_A.nodes), len(graph_B.nodes)))\n",
    "print(\"\")\n",
    "print(\"size of node attributes: [%i]\"%( graph_A.nodes[0].node_attr_tensor.shape[-1]))\n",
    "print(\"size of edge attributes: [%i]\"%(  graph_A.edges[0].edge_tensor.shape[-1]))"
   ]
  },
  {
   "cell_type": "markdown",
   "metadata": {
    "id": "eaBvkXVkbz0D"
   },
   "source": [
    "# **Creating a Custom `GraphNet`**\n",
    "\n",
    "In order to create a GraphNet (without global variables) one needs to define the following:\n",
    "\n",
    "* node function\n",
    "* an edge function\n",
    "* an edge aggregation function (except if a GraphIndependent network is implemented)\n",
    "\n",
    "In addition to that, one needs to pay attention that the input sizes of the node and edge function are consistent with the input graph, the edge aggregation function (if it exists) has to have outputs consistent with expected inputs of the node function (if the graph is not graph independet). Moreover, each of these functions have potentially different inputs related to the input graph.\n",
    "\n",
    "For instance:\n",
    "\n",
    "* Edge functions may have as inputs (\n",
    "    1) the edge state, \n",
    "    2) the sender node state, \n",
    "    3) the receiver node state\n",
    "\n",
    "* Node functions may have as inputs \n",
    "    1) the node state \n",
    "    2) an aggregated message incoming from the edges that point to that node. \n",
    "    \n",
    "These cases are identified internally by the naming of the inputs of the provided functions. See the examples to understand how to implement your own in case you want something special to happen in these functions. The `tf_gnns` library is built with `tf.keras` in mind and defines constraints to help development in a way that it exploits simple keras constructs (such as naming of inputs and output variables and the functional API of keras (`tf.keras.Model`) to facilitate building `GraphNets`. In contrast, DeepMind's GraphNet library uses Sonnet for that reason, and puts constraints on how computation and model construction happens for the same purpose. For some use-cases (such as implementation of bootstrapping or potential extensions on sparse graphs) It was found this was not very convenient - this is why this library was built.\n",
    "\n"
   ]
  },
  {
   "cell_type": "code",
   "execution_count": 7,
   "metadata": {
    "colab": {
     "base_uri": "https://localhost:8080/"
    },
    "id": "SNodjfRfcHJO",
    "outputId": "855ca824-812a-4be9-c8f4-9f81245e3a2b"
   },
   "outputs": [],
   "source": [
    "from tf_gnns import make_mlp_graphnet_functions, GraphNet, Node, Edge, Graph, GraphTuple, make_graph_tuple_from_graph_list\n",
    "## Naming:\n",
    "# ... _enc  : parameter of encoder block GNN (graph indep.)\n",
    "# ... _core : parameter of core block GNN \n",
    "# ... _dec  : parameter of decoder block GNN\n",
    "gnn_size = 50;\n",
    "node_input_size_enc, node_output_size_enc = [2, 10]\n",
    "node_input_size_core, node_output_size_core = [10, 10]\n",
    "node_input_size_dec, node_output_size_dec = [10,2]\n",
    "\n",
    "edge_input_size_enc  = 2\n",
    "edge_output_size_dec = 2\n",
    "\n",
    "graph_fcn_enc = make_mlp_graphnet_functions(gnn_size,\n",
    "                                          node_input_size = node_input_size_enc,\n",
    "                                          node_output_size = node_output_size_enc,\n",
    "                                          edge_input_size =  edge_input_size_enc,\n",
    "                                          graph_indep=True)\n",
    "\n",
    "graph_fcn_core = make_mlp_graphnet_functions(gnn_size,\n",
    "                                          node_input_size = node_input_size_core, \n",
    "                                          node_output_size = node_output_size_core, \n",
    "                                          graph_indep=False)\n",
    "\n",
    "graph_fcn_dec = make_mlp_graphnet_functions(gnn_size,\n",
    "                                          node_input_size = node_input_size_dec, \n",
    "                                          node_output_size = node_output_size_dec, \n",
    "                                          edge_output_size= edge_output_size_dec,\n",
    "                                          graph_indep=True)\n",
    "\n",
    "\n",
    "graph_fcn_enc['graph_independent'] = True\n",
    "graph_fcn_dec['graph_independent'] = True\n",
    "\n",
    "gnn_dicts = [graph_fcn_enc, graph_fcn_core, graph_fcn_enc]\n",
    "\n",
    "gnns = [GraphNet(**fcns) for fcns in [graph_fcn_enc,graph_fcn_core,graph_fcn_dec]] # A full encode-core-decode set of GNNs. One may eval. the core block multiple times.\n",
    "    "
   ]
  },
  {
   "cell_type": "markdown",
   "metadata": {
    "id": "CDMVNfemgOsD"
   },
   "source": [
    "In the example above `make_mlp_graphnet_functions` is a factory method. It conveniently returns a set of functions (keras models) that are in turn used to create GNNs.\n",
    "\n",
    "## Easy inspection of GN functions\n",
    "The `tf_gnns.GraphNet` can be pretty-printed in jupyter for easier inspection. Click on the buttons to see the contents of each GN function:"
   ]
  },
  {
   "cell_type": "code",
   "execution_count": 8,
   "metadata": {
    "colab": {
     "base_uri": "https://localhost:8080/"
    },
    "id": "AeUjRGf9j0c5",
    "outputId": "2b9c557f-95d2-4acb-a2f0-e6d85a58e878"
   },
   "outputs": [
    {
     "data": {
      "text/html": [
       "<div><style>/* Style the buttons that are used to open and close the accordion panel */\n",
       ".accordion {\n",
       "  .tfgnnviz {\n",
       "      background-color: #eee;\n",
       "      color: #444;\n",
       "      cursor: pointer;\n",
       "      padding: 18px;\n",
       "      width: 50%;\n",
       "      text-align: left;\n",
       "      border: none;\n",
       "      outline: none;\n",
       "      transition: 0.4s;\n",
       " }\n",
       "}\n",
       "\n",
       "/* Add a background color to the button if it is clicked on (add the .active class with JS), and when you move the mouse over it (hover) */\n",
       ".active, .accordion:hover {\n",
       "  background-color: #ccc;\n",
       "}\n",
       "\n",
       "\n",
       "/* Style the accordion panel. Note: hidden by default */\n",
       ".panel {\n",
       "  padding: 0 18px;\n",
       "  background-color: white;\n",
       "  display: none;\n",
       "  overflow: hidden;\n",
       "}\n",
       "</style>    <div> <h4>Graph Indep. GNN function (@140356043922832)</h4> </div>      <button class=\"accordion tfgnnviz\">Node function(node_state:2) -> 10</button>\n",
       "<div class=\"panel\">\n",
       "<pre>Model: \"node_fn/model\"\n",
       "_________________________________________________________________\n",
       "Layer (type)                 Output Shape              Param #   \n",
       "=================================================================\n",
       "node_state (InputLayer)      [(None, 2)]               0         \n",
       "_________________________________________________________________\n",
       "node_fn/dense_0 (Dense)      (None, 50)                100       \n",
       "_________________________________________________________________\n",
       "node_fn/dense_1 (Dense)      (None, 50)                2550      \n",
       "_________________________________________________________________\n",
       "node_fn/dense_2 (Dense)      (None, 50)                2550      \n",
       "_________________________________________________________________\n",
       "node_fn/dense_3 (Dense)      (None, 10)                510       \n",
       "=================================================================\n",
       "Total params: 5,710\n",
       "Trainable params: 5,710\n",
       "Non-trainable params: 0\n",
       "_________________________________________________________________</pre>\n",
       "</div>\n",
       "<button class=\"accordion tfgnnviz\">Edge function(edge_state:2) -> 10</button>\n",
       "<div class=\"panel\">\n",
       "<pre>Model: \"edge_fn/model\"\n",
       "_________________________________________________________________\n",
       "Layer (type)                 Output Shape              Param #   \n",
       "=================================================================\n",
       "edge_state (InputLayer)      [(None, 2)]               0         \n",
       "_________________________________________________________________\n",
       "edge_fn/dense_0 (Dense)      (None, 50)                100       \n",
       "_________________________________________________________________\n",
       "edge_fn/dense_1 (Dense)      (None, 50)                2550      \n",
       "_________________________________________________________________\n",
       "edge_fn/dense_2 (Dense)      (None, 50)                2550      \n",
       "_________________________________________________________________\n",
       "edge_fn/dense_3 (Dense)      (None, 10)                510       \n",
       "=================================================================\n",
       "Total params: 5,710\n",
       "Trainable params: 5,710\n",
       "Non-trainable params: 0\n",
       "_________________________________________________________________</pre>\n",
       "</div>\n",
       "<script>var acc = document.getElementsByClassName(\"accordion tfgnnviz\");\n",
       "var i;\n",
       "\n",
       "for (i = 0; i < acc.length; i++) {\n",
       "  acc[i].addEventListener(\"click\", function() {\n",
       "    /* Toggle between adding and removing the \"active\" class,\n",
       "    to highlight the button that controls the panel */\n",
       "    this.classList.toggle(\"active\");\n",
       "\n",
       "    /* Toggle between hiding and showing the active panel */\n",
       "    var panel = this.nextElementSibling;\n",
       "    if (panel.style.display === \"block\") {\n",
       "      panel.style.display = \"none\";\n",
       "    } else {\n",
       "      panel.style.display = \"block\";\n",
       "    }\n",
       "  });\n",
       "}\n",
       "\n",
       "</script>"
      ],
      "text/plain": [
       "<tf_gnns.graphnet_utils.GraphNet at 0x7fa73023dd90>"
      ]
     },
     "execution_count": 8,
     "metadata": {},
     "output_type": "execute_result"
    }
   ],
   "source": [
    "gnns[0]"
   ]
  },
  {
   "cell_type": "code",
   "execution_count": 9,
   "metadata": {},
   "outputs": [
    {
     "data": {
      "text/html": [
       "<div><style>/* Style the buttons that are used to open and close the accordion panel */\n",
       ".accordion {\n",
       "  .tfgnnviz {\n",
       "      background-color: #eee;\n",
       "      color: #444;\n",
       "      cursor: pointer;\n",
       "      padding: 18px;\n",
       "      width: 50%;\n",
       "      text-align: left;\n",
       "      border: none;\n",
       "      outline: none;\n",
       "      transition: 0.4s;\n",
       " }\n",
       "}\n",
       "\n",
       "/* Add a background color to the button if it is clicked on (add the .active class with JS), and when you move the mouse over it (hover) */\n",
       ".active, .accordion:hover {\n",
       "  background-color: #ccc;\n",
       "}\n",
       "\n",
       "\n",
       "/* Style the accordion panel. Note: hidden by default */\n",
       ".panel {\n",
       "  padding: 0 18px;\n",
       "  background-color: white;\n",
       "  display: none;\n",
       "  overflow: hidden;\n",
       "}\n",
       "</style>    <div> <h4>GNN function (@140356043622624)</h4> </div>      <button class=\"accordion tfgnnviz\">Node function(node_state:10, edge_state_agg:10) -> 10</button>\n",
       "<div class=\"panel\">\n",
       "<pre>Model: \"node_fn/model\"\n",
       "__________________________________________________________________________________________________\n",
       "Layer (type)                    Output Shape         Param #     Connected to                     \n",
       "==================================================================================================\n",
       "node_state (InputLayer)         [(None, 10)]         0                                            \n",
       "__________________________________________________________________________________________________\n",
       "edge_state_agg (InputLayer)     [(None, 10)]         0                                            \n",
       "__________________________________________________________________________________________________\n",
       "concatenate_1 (Concatenate)     (None, 20)           0           node_state[0][0]                 \n",
       "                                                                 edge_state_agg[0][0]             \n",
       "__________________________________________________________________________________________________\n",
       "node_fn/dense_0 (Dense)         (None, 50)           1000        concatenate_1[0][0]              \n",
       "__________________________________________________________________________________________________\n",
       "node_fn/dense_1 (Dense)         (None, 50)           2550        node_fn/dense_0[0][0]            \n",
       "__________________________________________________________________________________________________\n",
       "node_fn/dense_2 (Dense)         (None, 50)           2550        node_fn/dense_1[0][0]            \n",
       "__________________________________________________________________________________________________\n",
       "node_fn/dense_3 (Dense)         (None, 10)           510         node_fn/dense_2[0][0]            \n",
       "==================================================================================================\n",
       "Total params: 6,610\n",
       "Trainable params: 6,610\n",
       "Non-trainable params: 0\n",
       "__________________________________________________________________________________________________</pre>\n",
       "</div>\n",
       "<button class=\"accordion tfgnnviz\">Edge function(edge_state:10, sender_node_state:10, receiver_node_state:10) -> 10</button>\n",
       "<div class=\"panel\">\n",
       "<pre>Model: \"edge_fn/model\"\n",
       "__________________________________________________________________________________________________\n",
       "Layer (type)                    Output Shape         Param #     Connected to                     \n",
       "==================================================================================================\n",
       "edge_state (InputLayer)         [(None, 10)]         0                                            \n",
       "__________________________________________________________________________________________________\n",
       "sender_node_state (InputLayer)  [(None, 10)]         0                                            \n",
       "__________________________________________________________________________________________________\n",
       "receiver_node_state (InputLayer [(None, 10)]         0                                            \n",
       "__________________________________________________________________________________________________\n",
       "concatenate (Concatenate)       (None, 30)           0           edge_state[0][0]                 \n",
       "                                                                 sender_node_state[0][0]          \n",
       "                                                                 receiver_node_state[0][0]        \n",
       "__________________________________________________________________________________________________\n",
       "edge_fn/dense_0 (Dense)         (None, 50)           1500        concatenate[0][0]                \n",
       "__________________________________________________________________________________________________\n",
       "edge_fn/dense_1 (Dense)         (None, 50)           2550        edge_fn/dense_0[0][0]            \n",
       "__________________________________________________________________________________________________\n",
       "edge_fn/dense_2 (Dense)         (None, 50)           2550        edge_fn/dense_1[0][0]            \n",
       "__________________________________________________________________________________________________\n",
       "edge_fn/dense_3 (Dense)         (None, 10)           510         edge_fn/dense_2[0][0]            \n",
       "==================================================================================================\n",
       "Total params: 7,110\n",
       "Trainable params: 7,110\n",
       "Non-trainable params: 0\n",
       "__________________________________________________________________________________________________</pre>\n",
       "</div>\n",
       "<script>var acc = document.getElementsByClassName(\"accordion tfgnnviz\");\n",
       "var i;\n",
       "\n",
       "for (i = 0; i < acc.length; i++) {\n",
       "  acc[i].addEventListener(\"click\", function() {\n",
       "    /* Toggle between adding and removing the \"active\" class,\n",
       "    to highlight the button that controls the panel */\n",
       "    this.classList.toggle(\"active\");\n",
       "\n",
       "    /* Toggle between hiding and showing the active panel */\n",
       "    var panel = this.nextElementSibling;\n",
       "    if (panel.style.display === \"block\") {\n",
       "      panel.style.display = \"none\";\n",
       "    } else {\n",
       "      panel.style.display = \"block\";\n",
       "    }\n",
       "  });\n",
       "}\n",
       "\n",
       "</script>"
      ],
      "text/plain": [
       "<tf_gnns.graphnet_utils.GraphNet at 0x7fa7301f48e0>"
      ]
     },
     "execution_count": 9,
     "metadata": {},
     "output_type": "execute_result"
    }
   ],
   "source": [
    "gnns[1]"
   ]
  },
  {
   "cell_type": "markdown",
   "metadata": {
    "id": "SXWq1OZFj2Ul"
   },
   "source": [
    "Each of the GraphNets can be easilly saved using the `.save` method. You can invoke the summary method of any of these GNNs to inspect the inputs and outputs of the GN functions:"
   ]
  },
  {
   "cell_type": "markdown",
   "metadata": {
    "id": "h9nNnRAzkcRh"
   },
   "source": [
    "The overloaded `__add__()` operator shown above, comes in handy when computing residual connections:"
   ]
  },
  {
   "cell_type": "code",
   "execution_count": 10,
   "metadata": {
    "id": "nzBrWl9ZmMQ_"
   },
   "outputs": [],
   "source": [
    "CORE_STEPS = 2\n",
    "def eval_full_shared_resid_core(G : GraphTuple, core_steps =CORE_STEPS):\n",
    "    ## The actual computation\n",
    "    G = gnns[0].graph_tuple_eval(G) # The \"encode\" GraphNet block \n",
    "\n",
    "    for ncore in range(0,core_steps):\n",
    "        # gnns[1] is the \"core\" GraphNet block\n",
    "        G += gnns[1].graph_tuple_eval(G) # Overloaded sum operator - assign-add implements the residual connection (no projection needed - same size)\n",
    "        \n",
    "    G = gnns[-1].graph_tuple_eval(G)\n",
    "\n",
    "    return G"
   ]
  },
  {
   "cell_type": "code",
   "execution_count": 11,
   "metadata": {
    "id": "Hj3JArLQmRHa"
   },
   "outputs": [],
   "source": [
    "gt_eval = eval_full_shared_resid_core(gt.copy())"
   ]
  },
  {
   "cell_type": "code",
   "execution_count": 12,
   "metadata": {
    "colab": {
     "base_uri": "https://localhost:8080/"
    },
    "id": "t5tZrJUbnyJV",
    "outputId": "50004ca9-2dc4-4171-e96a-8a030e6f908f"
   },
   "outputs": [
    {
     "name": "stdout",
     "output_type": "stream",
     "text": [
      "Output GraphTuple:\n",
      "  nodes shape: [25,2]\n",
      "  edges shape: [23,2]\n"
     ]
    }
   ],
   "source": [
    "print(\"Output GraphTuple:\")\n",
    "edges_shape, nodes_shape = gt_eval.edges.shape.as_list(),gt_eval.nodes.shape.as_list()\n",
    "print(\"  nodes shape: [%i,%i]\"%(nodes_shape[0], nodes_shape[1]))\n",
    "print(\"  edges shape: [%i,%i]\"%(edges_shape[0], edges_shape[1]))\n"
   ]
  },
  {
   "cell_type": "markdown",
   "metadata": {
    "id": "KnIiL_-bo8_Y"
   },
   "source": [
    "## `Global` blocks\n",
    "Currently global blocks are not implemented. The reason for this is that it is easy to implement them in a few lines when needed. Here is an example of implementing a graph-to-global function with the respective aggregators:\n",
    "\n"
   ]
  },
  {
   "cell_type": "code",
   "execution_count": 13,
   "metadata": {
    "id": "E2XSCY_5o_MR"
   },
   "outputs": [],
   "source": [
    "from tf_gnns.graphnet_utils import make_keras_simple_agg\n",
    "from tensorflow.keras.layers import Input, Dense\n",
    "from tensorflow.keras import Model\n",
    "\n",
    "GN_STATE = 2\n",
    "GLOB_STATE_OUT = 1\n",
    "def make_graph_tuple_to_global(insize = GN_STATE,output_size = GLOB_STATE_OUT, agg_type = 'mean'):\n",
    "    \n",
    "    agg_fcn = make_keras_simple_agg(insize,agg_type) # from ibk_gnns import make_keras_simple_agg\n",
    "    agg_fcn = agg_fcn[1] # The graph tuple version of the aggregator\n",
    "    \n",
    "    # Constructing the node+edge -> global function. \n",
    "    xx = Input(shape = (insize,))\n",
    "    out = Dense(insize, 'tanh')(xx)\n",
    "    out = Dense(insize, 'tanh')(out)\n",
    "    out = Dense(output_size, activation = None, use_bias = False)(out)\n",
    "    global_fcn = Model(inputs = xx, outputs = out)\n",
    "    \n",
    "    def fcn_node_and_edge(gt_):\n",
    "        # Aggregate the node and edge info:\n",
    "\n",
    "        # First, retrieve the segment IDs (as done on the full GN step with no global aggregation):\n",
    "        graph_indices_nodes = []\n",
    "        for k_,k in enumerate(gt_.n_nodes):\n",
    "            graph_indices_nodes.extend(np.ones(k).astype(\"int\")*k_)\n",
    "\n",
    "        graph_indices_edges = []\n",
    "        for k_,k in enumerate(gt_.n_edges):\n",
    "            graph_indices_edges.extend(np.ones(k).astype(\"int\")*k_)\n",
    "            \n",
    "        o1 = agg_fcn(gt_.nodes,graph_indices_nodes, gt_.n_graphs) # node_to_global aggregation\n",
    "        o2 = agg_fcn(gt_.edges,graph_indices_edges, gt_.n_graphs) # edge_to_global aggregation\n",
    "        return global_fcn(o1+o2) # either concat or add the aggregated information.\n",
    "\n",
    "    return fcn_node_and_edge, global_fcn #(the global fcn is also returned to later retrieve its weights)"
   ]
  },
  {
   "cell_type": "code",
   "execution_count": 14,
   "metadata": {
    "colab": {
     "base_uri": "https://localhost:8080/"
    },
    "id": "dquuy1kfs7s_",
    "outputId": "fbe3a890-c5df-496b-ae3b-3872a9a36242"
   },
   "outputs": [],
   "source": [
    "# Evaluation example:\n",
    "# gt_eval = eval_full_shared_resid_core(gt.copy())\n",
    "graph_tuple_to_global, global_fcn = make_graph_tuple_to_global(insize = GN_STATE,agg_type =\"mean\")"
   ]
  },
  {
   "cell_type": "code",
   "execution_count": 15,
   "metadata": {
    "colab": {
     "base_uri": "https://localhost:8080/"
    },
    "id": "ihf0xZ8ktaOT",
    "outputId": "5929fd19-c1f6-49c5-8baa-863ff826bfe2"
   },
   "outputs": [
    {
     "name": "stdout",
     "output_type": "stream",
     "text": [
      "2 graphs, 1 dimensional output:\n"
     ]
    },
    {
     "data": {
      "text/plain": [
       "<tf.Tensor: shape=(2, 1), dtype=float32, numpy=\n",
       "array([[-0.00144834],\n",
       "       [-0.00245825]], dtype=float32)>"
      ]
     },
     "execution_count": 15,
     "metadata": {},
     "output_type": "execute_result"
    }
   ],
   "source": [
    "res = graph_tuple_to_global(gt_eval)\n",
    "print(\"%i graphs, %i dimensional output:\"%(gt.n_graphs, GLOB_STATE_OUT))\n",
    "res"
   ]
  },
  {
   "cell_type": "markdown",
   "metadata": {
    "id": "7V3rMYVfuGYr"
   },
   "source": [
    "## All weights of a GN:\n",
    "Gathering the weights (trainable parameters) of `GraphNet` blocks in the `tf_gnns` is easy. Here is how to get all the parameters of the above computation:"
   ]
  },
  {
   "cell_type": "code",
   "execution_count": 16,
   "metadata": {
    "id": "QwIBwzbZuzku"
   },
   "outputs": [],
   "source": [
    "all_weights=[]\n",
    "for g in gnns: # the encode/core/decode layers:\n",
    "    ww = g.weights\n",
    "    all_weights.extend(ww)\n",
    "\n",
    "all_weights.extend(global_fcn.weights) # The final \"graph to global\" layer.\n"
   ]
  },
  {
   "cell_type": "markdown",
   "metadata": {
    "id": "S9xwRC0Wu4mS"
   },
   "source": [
    "# Taking gradients of the whole operation:\n",
    "The whole operation above is differentiable. Here is how to simply take gradients of the above with `tf.GradientTape()`:"
   ]
  },
  {
   "cell_type": "code",
   "execution_count": 17,
   "metadata": {
    "id": "P5rm4kfa1VIb"
   },
   "outputs": [],
   "source": [
    "import tensorflow as tf\n",
    "opt = tf.keras.optimizers.Adam(learning_rate = 0.001)"
   ]
  },
  {
   "cell_type": "code",
   "execution_count": 18,
   "metadata": {
    "id": "g-lKQHJwybRb"
   },
   "outputs": [],
   "source": [
    "\n",
    "# Just some random numbers to work with:\n",
    "Y = np.random.randn(gt.n_graphs,GLOB_STATE_OUT)\n",
    "def full_eval_with_global(G):\n",
    "    G = eval_full_shared_resid_core(G)\n",
    "    return graph_tuple_to_global(G)\n",
    "\n",
    "def loss(Ypred, Yactual):\n",
    "    return tf.reduce_mean(tf.square(Ypred - Yactual))\n",
    "\n",
    "# The following also gives us direct access to the gradients which may be \n",
    "# useful in some contexts:\n",
    "with tf.GradientTape() as tape:\n",
    "    Yhat = full_eval_with_global(gt.copy())\n",
    "    loss_current = loss(Yhat, Y)\n",
    "    grads = tape.gradient(loss_current,all_weights)\n",
    "    opt.apply_gradients(zip(grads,all_weights))\n"
   ]
  },
  {
   "cell_type": "code",
   "execution_count": 19,
   "metadata": {
    "colab": {
     "base_uri": "https://localhost:8080/"
    },
    "id": "I_1K5jH2D3m3",
    "outputId": "9f67dea7-fb7f-4c4c-8e55-09e344b75676"
   },
   "outputs": [
    {
     "data": {
      "text/plain": [
       "array([ 0, 14, 28, 42, 47])"
      ]
     },
     "execution_count": 19,
     "metadata": {},
     "output_type": "execute_result"
    }
   ],
   "source": [
    "nweights_per_block = [len(g.weights) for g in gnns]\n",
    "nweights_per_block.append(len(global_fcn.weights))\n",
    "cumsum_nweights_per_block = np.cumsum([0,*nweights_per_block])\n",
    "cumsum_nweights_per_block"
   ]
  },
  {
   "cell_type": "markdown",
   "metadata": {
    "id": "j80LRib_0mVY"
   },
   "source": [
    "A plot of the gradient histograms from different blocks:"
   ]
  },
  {
   "cell_type": "code",
   "execution_count": 20,
   "metadata": {
    "colab": {
     "base_uri": "https://localhost:8080/",
     "height": 267
    },
    "id": "_EhF0SfF4kSX",
    "outputId": "cc86efeb-7101-49ef-ac08-60f02d73a497"
   },
   "outputs": [
    {
     "name": "stderr",
     "output_type": "stream",
     "text": [
      "<ipython-input-20-c0fecd24b1ac>:8: MatplotlibDeprecationWarning: Adding an axes using the same arguments as a previous axes currently reuses the earlier instance.  In a future version, a new instance will always be created and returned.  Meanwhile, this warning can be suppressed, and the future behavior ensured, by passing a unique label to each axes instance.\n",
      "  plt.subplot(1,4,1+k)\n"
     ]
    },
    {
     "data": {
      "image/png": "[encoded data removed]",
      "text/plain": [
       "<Figure size 720x180 with 4 Axes>"
      ]
     },
     "metadata": {
      "needs_background": "light"
     },
     "output_type": "display_data"
    }
   ],
   "source": [
    "import matplotlib.pyplot as plt\n",
    "\n",
    "sc = 0.5\n",
    "plt.figure(figsize = (20*sc,5*sc))\n",
    "\n",
    "plt.subplot(1,4,1)\n",
    "for k,name in enumerate(['encode','core','decode','global']):\n",
    "    plt.subplot(1,4,1+k)\n",
    "    # Encode network:\n",
    "    start_idx, end_idx = cumsum_nweights_per_block[k:k+2]\n",
    "    for g_ in grads[start_idx:end_idx]:\n",
    "        plt.hist(g_.numpy().flatten(), alpha = 0.9)\n",
    "\n",
    "    plt.grid()\n",
    "    plt.title(\"%s network\\nGrad. histogram\"%name)"
   ]
  },
  {
   "cell_type": "markdown",
   "metadata": {},
   "source": [
    "# Support for global variables\n",
    "global-to-edge and global-to-node functions are also supported.\n",
    "\n",
    "The GN block does nothing special to the global variable (it simply passes it to the input of the node and edge block). In order to use the global variable, define `use_global_to_edge = True` and/or `use_global_to_node = True` in construction, and the size/shape (shapes with rank>1 for the global variable are currently un-tested and probably will lead to bugs) of the global variable during construction. \n",
    "\n",
    "For more custom computations and more advanced features, check the source of the factory method `make_mlp_graphnet_factory(...)` to understand naming conventions etc. The global variable is appended to the inputs of the node/edge functions when used.\n",
    "\n",
    "For even more control on the functions, you may use the `make_node_mlp(...)` etc factories and pass them directly on the `GraphNet` constructor.\n",
    "\n",
    "In the code bellow, some typical utility GN function factories are used.\n",
    "\n"
   ]
  },
  {
   "cell_type": "code",
   "execution_count": 22,
   "metadata": {},
   "outputs": [],
   "source": [
    "from tf_gnns import make_mlp_graphnet_functions, make_graph_to_graph_and_global_functions, make_full_graphnet_functions\n",
    "from tf_gnns import GraphNet, Node, Edge, Graph, GraphTuple, make_graph_tuple_from_graph_list\n",
    "\n",
    "gnn_size = 50;\n",
    "node_input_size_enc, node_output_size_enc = [2, 10]\n",
    "node_input_size_core, node_output_size_core = [10, 10]\n",
    "edge_input_size_core, edge_output_size_core = [10,10]\n",
    "node_input_size_dec, node_output_size_dec = [10,2]\n",
    "\n",
    "global_core_state = 10\n",
    "\n",
    "edge_input_size_enc  = 2\n",
    "edge_output_size_dec = 2\n",
    "\n",
    "graph_fcn_enc = make_graph_to_graph_and_global_functions(gnn_size,\n",
    "                                          node_or_core_input_size  = node_input_size_enc,\n",
    "                                          node_or_core_output_size = node_output_size_enc,\n",
    "                                          global_output_size       =  global_core_state)\n",
    "\n",
    "graph_fcn_core = make_full_graphnet_functions(gnn_size,\n",
    "                                          node_or_core_input_size  = node_output_size_enc, \n",
    "                                          node_or_core_output_size = node_output_size_enc,\n",
    "                                          global_output_size = global_core_state)\n",
    "\n",
    "graph_fcn_dec = make_mlp_graphnet_functions(gnn_size,\n",
    "                                          node_input_size = node_input_size_dec, \n",
    "                                          node_output_size = node_output_size_dec, \n",
    "                                          edge_output_size= edge_output_size_dec,\n",
    "                                          graph_indep=True)\n",
    "\n",
    "\n",
    "graph_fcn_enc['graph_independent'] = True\n",
    "graph_fcn_dec['graph_independent'] = True\n",
    "\n",
    "graph_tuple_to_global, global_fcn = make_graph_tuple_to_global(insize = node_output_size_core,\n",
    "                                                               output_size=global_core_state,\n",
    "                                                               agg_type =\"mean\")"
   ]
  },
  {
   "cell_type": "code",
   "execution_count": 23,
   "metadata": {},
   "outputs": [],
   "source": [
    "gn_enc  = GraphNet(**graph_fcn_enc)\n",
    "gn_core = GraphNet(**graph_fcn_core)\n",
    "gn_dec  = GraphNet(**graph_fcn_dec)\n"
   ]
  },
  {
   "cell_type": "markdown",
   "metadata": {},
   "source": [
    "## Inspection of the functions:"
   ]
  },
  {
   "cell_type": "code",
   "execution_count": 24,
   "metadata": {},
   "outputs": [
    {
     "data": {
      "text/html": [
       "<div><style>/* Style the buttons that are used to open and close the accordion panel */\n",
       ".accordion {\n",
       "  .tfgnnviz {\n",
       "      background-color: #eee;\n",
       "      color: #444;\n",
       "      cursor: pointer;\n",
       "      padding: 18px;\n",
       "      width: 50%;\n",
       "      text-align: left;\n",
       "      border: none;\n",
       "      outline: none;\n",
       "      transition: 0.4s;\n",
       " }\n",
       "}\n",
       "\n",
       "/* Add a background color to the button if it is clicked on (add the .active class with JS), and when you move the mouse over it (hover) */\n",
       ".active, .accordion:hover {\n",
       "  background-color: #ccc;\n",
       "}\n",
       "\n",
       "\n",
       "/* Style the accordion panel. Note: hidden by default */\n",
       ".panel {\n",
       "  padding: 0 18px;\n",
       "  background-color: white;\n",
       "  display: none;\n",
       "  overflow: hidden;\n",
       "}\n",
       "</style>    <div> <h4>Graph Indep. GNN function (@140345235265856)</h4> </div>      <button class=\"accordion tfgnnviz\">Node function(node_state:2, edge_state_agg:10) -> 10</button>\n",
       "<div class=\"panel\">\n",
       "<pre>Model: \"node_fn/model\"\n",
       "__________________________________________________________________________________________________\n",
       "Layer (type)                    Output Shape         Param #     Connected to                     \n",
       "==================================================================================================\n",
       "node_state (InputLayer)         [(None, 2)]          0                                            \n",
       "__________________________________________________________________________________________________\n",
       "edge_state_agg (InputLayer)     [(None, 10)]         0                                            \n",
       "__________________________________________________________________________________________________\n",
       "concatenate_9 (Concatenate)     (None, 12)           0           node_state[0][0]                 \n",
       "                                                                 edge_state_agg[0][0]             \n",
       "__________________________________________________________________________________________________\n",
       "node_fn/dense_0 (Dense)         (None, 50)           600         concatenate_9[0][0]              \n",
       "__________________________________________________________________________________________________\n",
       "node_fn/dense_1 (Dense)         (None, 50)           2550        node_fn/dense_0[0][0]            \n",
       "__________________________________________________________________________________________________\n",
       "node_fn/dense_2 (Dense)         (None, 50)           2550        node_fn/dense_1[0][0]            \n",
       "__________________________________________________________________________________________________\n",
       "node_fn/dense_3 (Dense)         (None, 10)           510         node_fn/dense_2[0][0]            \n",
       "==================================================================================================\n",
       "Total params: 6,210\n",
       "Trainable params: 6,210\n",
       "Non-trainable params: 0\n",
       "__________________________________________________________________________________________________</pre>\n",
       "</div>\n",
       "<button class=\"accordion tfgnnviz\">Edge function(edge_state:2, sender_node_state:2, receiver_node_state:2) -> 10</button>\n",
       "<div class=\"panel\">\n",
       "<pre>Model: \"edge_fn/model\"\n",
       "__________________________________________________________________________________________________\n",
       "Layer (type)                    Output Shape         Param #     Connected to                     \n",
       "==================================================================================================\n",
       "edge_state (InputLayer)         [(None, 2)]          0                                            \n",
       "__________________________________________________________________________________________________\n",
       "sender_node_state (InputLayer)  [(None, 2)]          0                                            \n",
       "__________________________________________________________________________________________________\n",
       "receiver_node_state (InputLayer [(None, 2)]          0                                            \n",
       "__________________________________________________________________________________________________\n",
       "concatenate_8 (Concatenate)     (None, 6)            0           edge_state[0][0]                 \n",
       "                                                                 sender_node_state[0][0]          \n",
       "                                                                 receiver_node_state[0][0]        \n",
       "__________________________________________________________________________________________________\n",
       "edge_fn/dense_0 (Dense)         (None, 50)           300         concatenate_8[0][0]              \n",
       "__________________________________________________________________________________________________\n",
       "edge_fn/dense_1 (Dense)         (None, 50)           2550        edge_fn/dense_0[0][0]            \n",
       "__________________________________________________________________________________________________\n",
       "edge_fn/dense_2 (Dense)         (None, 50)           2550        edge_fn/dense_1[0][0]            \n",
       "__________________________________________________________________________________________________\n",
       "edge_fn/dense_3 (Dense)         (None, 10)           510         edge_fn/dense_2[0][0]            \n",
       "==================================================================================================\n",
       "Total params: 5,910\n",
       "Trainable params: 5,910\n",
       "Non-trainable params: 0\n",
       "__________________________________________________________________________________________________</pre>\n",
       "</div>\n",
       "<button class=\"accordion tfgnnviz\">Global function(node_state_agg:10, edge_state_agg:10) -> 10</button>\n",
       "<div class=\"panel\">\n",
       "<pre>Model: \"global_mlp/glob_fn/model\"\n",
       "__________________________________________________________________________________________________\n",
       "Layer (type)                    Output Shape         Param #     Connected to                     \n",
       "==================================================================================================\n",
       "node_state_agg (InputLayer)     [(None, 10)]         0                                            \n",
       "__________________________________________________________________________________________________\n",
       "edge_state_agg (InputLayer)     [(None, 10)]         0                                            \n",
       "__________________________________________________________________________________________________\n",
       "concatenate_10 (Concatenate)    (None, 20)           0           node_state_agg[0][0]             \n",
       "                                                                 edge_state_agg[0][0]             \n",
       "__________________________________________________________________________________________________\n",
       "global_mlp/glob_fn/dense_0 (Den (None, 50)           1000        concatenate_10[0][0]             \n",
       "__________________________________________________________________________________________________\n",
       "global_mlp/glob_fn/dense_1 (Den (None, 50)           2550        global_mlp/glob_fn/dense_0[0][0] \n",
       "__________________________________________________________________________________________________\n",
       "global_mlp/glob_fn/dense_2 (Den (None, 50)           2550        global_mlp/glob_fn/dense_1[0][0] \n",
       "__________________________________________________________________________________________________\n",
       "global_mlp/glob_fn/dense_3 (Den (None, 10)           510         global_mlp/glob_fn/dense_2[0][0] \n",
       "==================================================================================================\n",
       "Total params: 6,610\n",
       "Trainable params: 6,610\n",
       "Non-trainable params: 0\n",
       "__________________________________________________________________________________________________</pre>\n",
       "</div>\n",
       "<script>var acc = document.getElementsByClassName(\"accordion tfgnnviz\");\n",
       "var i;\n",
       "\n",
       "for (i = 0; i < acc.length; i++) {\n",
       "  acc[i].addEventListener(\"click\", function() {\n",
       "    /* Toggle between adding and removing the \"active\" class,\n",
       "    to highlight the button that controls the panel */\n",
       "    this.classList.toggle(\"active\");\n",
       "\n",
       "    /* Toggle between hiding and showing the active panel */\n",
       "    var panel = this.nextElementSibling;\n",
       "    if (panel.style.display === \"block\") {\n",
       "      panel.style.display = \"none\";\n",
       "    } else {\n",
       "      panel.style.display = \"block\";\n",
       "    }\n",
       "  });\n",
       "}\n",
       "\n",
       "</script>"
      ],
      "text/plain": [
       "<tf_gnns.graphnet_utils.GraphNet at 0x7fa4abe4d940>"
      ]
     },
     "execution_count": 24,
     "metadata": {},
     "output_type": "execute_result"
    }
   ],
   "source": [
    "gn_enc"
   ]
  },
  {
   "cell_type": "code",
   "execution_count": 25,
   "metadata": {},
   "outputs": [
    {
     "data": {
      "text/html": [
       "<div><style>/* Style the buttons that are used to open and close the accordion panel */\n",
       ".accordion {\n",
       "  .tfgnnviz {\n",
       "      background-color: #eee;\n",
       "      color: #444;\n",
       "      cursor: pointer;\n",
       "      padding: 18px;\n",
       "      width: 50%;\n",
       "      text-align: left;\n",
       "      border: none;\n",
       "      outline: none;\n",
       "      transition: 0.4s;\n",
       " }\n",
       "}\n",
       "\n",
       "/* Add a background color to the button if it is clicked on (add the .active class with JS), and when you move the mouse over it (hover) */\n",
       ".active, .accordion:hover {\n",
       "  background-color: #ccc;\n",
       "}\n",
       "\n",
       "\n",
       "/* Style the accordion panel. Note: hidden by default */\n",
       ".panel {\n",
       "  padding: 0 18px;\n",
       "  background-color: white;\n",
       "  display: none;\n",
       "  overflow: hidden;\n",
       "}\n",
       "</style>    <div> <h4>GNN function (@140345235266960)</h4> </div>      <button class=\"accordion tfgnnviz\">Node function(node_state:10, edge_state_agg:10, global_state:10) -> 10</button>\n",
       "<div class=\"panel\">\n",
       "<pre>Model: \"node_fn/model\"\n",
       "__________________________________________________________________________________________________\n",
       "Layer (type)                    Output Shape         Param #     Connected to                     \n",
       "==================================================================================================\n",
       "node_state (InputLayer)         [(None, 10)]         0                                            \n",
       "__________________________________________________________________________________________________\n",
       "edge_state_agg (InputLayer)     [(None, 10)]         0                                            \n",
       "__________________________________________________________________________________________________\n",
       "global_state (InputLayer)       [(None, 10)]         0                                            \n",
       "__________________________________________________________________________________________________\n",
       "concatenate_12 (Concatenate)    (None, 30)           0           node_state[0][0]                 \n",
       "                                                                 edge_state_agg[0][0]             \n",
       "                                                                 global_state[0][0]               \n",
       "__________________________________________________________________________________________________\n",
       "node_fn/dense_0 (Dense)         (None, 50)           1500        concatenate_12[0][0]             \n",
       "__________________________________________________________________________________________________\n",
       "node_fn/dense_1 (Dense)         (None, 50)           2550        node_fn/dense_0[0][0]            \n",
       "__________________________________________________________________________________________________\n",
       "node_fn/dense_2 (Dense)         (None, 50)           2550        node_fn/dense_1[0][0]            \n",
       "__________________________________________________________________________________________________\n",
       "node_fn/dense_3 (Dense)         (None, 10)           510         node_fn/dense_2[0][0]            \n",
       "==================================================================================================\n",
       "Total params: 7,110\n",
       "Trainable params: 7,110\n",
       "Non-trainable params: 0\n",
       "__________________________________________________________________________________________________</pre>\n",
       "</div>\n",
       "<button class=\"accordion tfgnnviz\">Edge function(edge_state:10, sender_node_state:10, receiver_node_state:10, global_state:10) -> 10</button>\n",
       "<div class=\"panel\">\n",
       "<pre>Model: \"edge_fn/model\"\n",
       "__________________________________________________________________________________________________\n",
       "Layer (type)                    Output Shape         Param #     Connected to                     \n",
       "==================================================================================================\n",
       "edge_state (InputLayer)         [(None, 10)]         0                                            \n",
       "__________________________________________________________________________________________________\n",
       "sender_node_state (InputLayer)  [(None, 10)]         0                                            \n",
       "__________________________________________________________________________________________________\n",
       "receiver_node_state (InputLayer [(None, 10)]         0                                            \n",
       "__________________________________________________________________________________________________\n",
       "global_state (InputLayer)       [(None, 10)]         0                                            \n",
       "__________________________________________________________________________________________________\n",
       "concatenate_11 (Concatenate)    (None, 40)           0           edge_state[0][0]                 \n",
       "                                                                 sender_node_state[0][0]          \n",
       "                                                                 receiver_node_state[0][0]        \n",
       "                                                                 global_state[0][0]               \n",
       "__________________________________________________________________________________________________\n",
       "edge_fn/dense_0 (Dense)         (None, 50)           2000        concatenate_11[0][0]             \n",
       "__________________________________________________________________________________________________\n",
       "edge_fn/dense_1 (Dense)         (None, 50)           2550        edge_fn/dense_0[0][0]            \n",
       "__________________________________________________________________________________________________\n",
       "edge_fn/dense_2 (Dense)         (None, 50)           2550        edge_fn/dense_1[0][0]            \n",
       "__________________________________________________________________________________________________\n",
       "edge_fn/dense_3 (Dense)         (None, 10)           510         edge_fn/dense_2[0][0]            \n",
       "==================================================================================================\n",
       "Total params: 7,610\n",
       "Trainable params: 7,610\n",
       "Non-trainable params: 0\n",
       "__________________________________________________________________________________________________</pre>\n",
       "</div>\n",
       "<button class=\"accordion tfgnnviz\">Global function(global_state:10, node_state_agg:10, edge_state_agg:10) -> 10</button>\n",
       "<div class=\"panel\">\n",
       "<pre>Model: \"global_mlp/glob_fn/model\"\n",
       "__________________________________________________________________________________________________\n",
       "Layer (type)                    Output Shape         Param #     Connected to                     \n",
       "==================================================================================================\n",
       "global_state (InputLayer)       [(None, 10)]         0                                            \n",
       "__________________________________________________________________________________________________\n",
       "node_state_agg (InputLayer)     [(None, 10)]         0                                            \n",
       "__________________________________________________________________________________________________\n",
       "edge_state_agg (InputLayer)     [(None, 10)]         0                                            \n",
       "__________________________________________________________________________________________________\n",
       "concatenate_13 (Concatenate)    (None, 30)           0           global_state[0][0]               \n",
       "                                                                 node_state_agg[0][0]             \n",
       "                                                                 edge_state_agg[0][0]             \n",
       "__________________________________________________________________________________________________\n",
       "global_mlp/glob_fn/dense_0 (Den (None, 50)           1500        concatenate_13[0][0]             \n",
       "__________________________________________________________________________________________________\n",
       "global_mlp/glob_fn/dense_1 (Den (None, 50)           2550        global_mlp/glob_fn/dense_0[0][0] \n",
       "__________________________________________________________________________________________________\n",
       "global_mlp/glob_fn/dense_2 (Den (None, 50)           2550        global_mlp/glob_fn/dense_1[0][0] \n",
       "__________________________________________________________________________________________________\n",
       "global_mlp/glob_fn/dense_3 (Den (None, 10)           510         global_mlp/glob_fn/dense_2[0][0] \n",
       "==================================================================================================\n",
       "Total params: 7,110\n",
       "Trainable params: 7,110\n",
       "Non-trainable params: 0\n",
       "__________________________________________________________________________________________________</pre>\n",
       "</div>\n",
       "<script>var acc = document.getElementsByClassName(\"accordion tfgnnviz\");\n",
       "var i;\n",
       "\n",
       "for (i = 0; i < acc.length; i++) {\n",
       "  acc[i].addEventListener(\"click\", function() {\n",
       "    /* Toggle between adding and removing the \"active\" class,\n",
       "    to highlight the button that controls the panel */\n",
       "    this.classList.toggle(\"active\");\n",
       "\n",
       "    /* Toggle between hiding and showing the active panel */\n",
       "    var panel = this.nextElementSibling;\n",
       "    if (panel.style.display === \"block\") {\n",
       "      panel.style.display = \"none\";\n",
       "    } else {\n",
       "      panel.style.display = \"block\";\n",
       "    }\n",
       "  });\n",
       "}\n",
       "\n",
       "</script>"
      ],
      "text/plain": [
       "<tf_gnns.graphnet_utils.GraphNet at 0x7fa4abe4dd90>"
      ]
     },
     "execution_count": 25,
     "metadata": {},
     "output_type": "execute_result"
    }
   ],
   "source": [
    "gn_core"
   ]
  },
  {
   "cell_type": "code",
   "execution_count": 26,
   "metadata": {},
   "outputs": [
    {
     "data": {
      "text/html": [
       "<div><style>/* Style the buttons that are used to open and close the accordion panel */\n",
       ".accordion {\n",
       "  .tfgnnviz {\n",
       "      background-color: #eee;\n",
       "      color: #444;\n",
       "      cursor: pointer;\n",
       "      padding: 18px;\n",
       "      width: 50%;\n",
       "      text-align: left;\n",
       "      border: none;\n",
       "      outline: none;\n",
       "      transition: 0.4s;\n",
       " }\n",
       "}\n",
       "\n",
       "/* Add a background color to the button if it is clicked on (add the .active class with JS), and when you move the mouse over it (hover) */\n",
       ".active, .accordion:hover {\n",
       "  background-color: #ccc;\n",
       "}\n",
       "\n",
       "\n",
       "/* Style the accordion panel. Note: hidden by default */\n",
       ".panel {\n",
       "  padding: 0 18px;\n",
       "  background-color: white;\n",
       "  display: none;\n",
       "  overflow: hidden;\n",
       "}\n",
       "</style>    <div> <h4>Graph Indep. GNN function (@140345235266096)</h4> </div>      <button class=\"accordion tfgnnviz\">Node function(node_state:10) -> 2</button>\n",
       "<div class=\"panel\">\n",
       "<pre>Model: \"node_fn/model\"\n",
       "_________________________________________________________________\n",
       "Layer (type)                 Output Shape              Param #   \n",
       "=================================================================\n",
       "node_state (InputLayer)      [(None, 10)]              0         \n",
       "_________________________________________________________________\n",
       "node_fn/dense_0 (Dense)      (None, 50)                500       \n",
       "_________________________________________________________________\n",
       "node_fn/dense_1 (Dense)      (None, 50)                2550      \n",
       "_________________________________________________________________\n",
       "node_fn/dense_2 (Dense)      (None, 50)                2550      \n",
       "_________________________________________________________________\n",
       "node_fn/dense_3 (Dense)      (None, 2)                 102       \n",
       "=================================================================\n",
       "Total params: 5,702\n",
       "Trainable params: 5,702\n",
       "Non-trainable params: 0\n",
       "_________________________________________________________________</pre>\n",
       "</div>\n",
       "<button class=\"accordion tfgnnviz\">Edge function(edge_state:10) -> 2</button>\n",
       "<div class=\"panel\">\n",
       "<pre>Model: \"edge_fn/model\"\n",
       "_________________________________________________________________\n",
       "Layer (type)                 Output Shape              Param #   \n",
       "=================================================================\n",
       "edge_state (InputLayer)      [(None, 10)]              0         \n",
       "_________________________________________________________________\n",
       "edge_fn/dense_0 (Dense)      (None, 50)                500       \n",
       "_________________________________________________________________\n",
       "edge_fn/dense_1 (Dense)      (None, 50)                2550      \n",
       "_________________________________________________________________\n",
       "edge_fn/dense_2 (Dense)      (None, 50)                2550      \n",
       "_________________________________________________________________\n",
       "edge_fn/dense_3 (Dense)      (None, 2)                 102       \n",
       "=================================================================\n",
       "Total params: 5,702\n",
       "Trainable params: 5,702\n",
       "Non-trainable params: 0\n",
       "_________________________________________________________________</pre>\n",
       "</div>\n",
       "<script>var acc = document.getElementsByClassName(\"accordion tfgnnviz\");\n",
       "var i;\n",
       "\n",
       "for (i = 0; i < acc.length; i++) {\n",
       "  acc[i].addEventListener(\"click\", function() {\n",
       "    /* Toggle between adding and removing the \"active\" class,\n",
       "    to highlight the button that controls the panel */\n",
       "    this.classList.toggle(\"active\");\n",
       "\n",
       "    /* Toggle between hiding and showing the active panel */\n",
       "    var panel = this.nextElementSibling;\n",
       "    if (panel.style.display === \"block\") {\n",
       "      panel.style.display = \"none\";\n",
       "    } else {\n",
       "      panel.style.display = \"block\";\n",
       "    }\n",
       "  });\n",
       "}\n",
       "\n",
       "</script>"
      ],
      "text/plain": [
       "<tf_gnns.graphnet_utils.GraphNet at 0x7fa4abe4da30>"
      ]
     },
     "execution_count": 26,
     "metadata": {},
     "output_type": "execute_result"
    }
   ],
   "source": [
    "gn_dec"
   ]
  },
  {
   "cell_type": "markdown",
   "metadata": {},
   "source": [
    "## Computation using graph tuples:"
   ]
  },
  {
   "cell_type": "code",
   "execution_count": 29,
   "metadata": {},
   "outputs": [],
   "source": [
    "g_ =  gn_enc.graph_tuple_eval(gt.copy())\n",
    "\n",
    "# The following lines implement the full-GN block:\n",
    "g_         = gn_core.graph_tuple_eval(g_) # <-- Note that the global variables are used here. \n",
    "glob_accum = graph_tuple_to_global(g_)\n",
    "\n",
    "g_         = gn_core.graph_tuple_eval(g_)"
   ]
  },
  {
   "cell_type": "markdown",
   "metadata": {},
   "source": [
    "## Faster computation using `tf.function`\n",
    "Tensorflow supports complilation of eager code in graph-mode code. The `GraphNet` can be included in `tf.function` compilable code through the `.eval_tensor_dict(...)` method, that operates in tensor dictionaries which correspond to GraphTuples. This should match the performance of other libraries."
   ]
  },
  {
   "cell_type": "code",
   "execution_count": 30,
   "metadata": {},
   "outputs": [],
   "source": [
    "def eval_graph_tuple(gt):\n",
    "    g_ = gn_enc.graph_tuple_eval(gt)\n",
    "    g_ = gn_core.graph_tuple_eval(g_)\n",
    "    return g_\n",
    "\n",
    "# @tf.function\n",
    "def eval_tensordict(td_):\n",
    "    g_ = gn_enc.eval_tensor_dict(td_)\n",
    "    g_ = gn_core.eval_tensor_dict(g_)\n",
    "    return g_\n",
    "    "
   ]
  },
  {
   "cell_type": "code",
   "execution_count": 31,
   "metadata": {},
   "outputs": [
    {
     "name": "stdout",
     "output_type": "stream",
     "text": [
      "GraphTuple:       0.012[reps/s]\n",
      "tf.function:      0.004[reps/s]\n",
      "Perf. difference: 67.310%\n"
     ]
    }
   ],
   "source": [
    "from time import time\n",
    "nreps = 500\n",
    "t0 = time()\n",
    "for i in range(nreps):\n",
    "    eval_graph_tuple(gt.copy())\n",
    "dt_graph_tuple =( time() - t0)/nreps\n",
    "\n",
    "t0 =time()\n",
    "g_ = gt.to_tensor_dict()\n",
    "for i in range(nreps):\n",
    "    eval_tensordict(g_)\n",
    "dt_tf_function = (time()-t0)/nreps\n",
    "\n",
    "print(\"GraphTuple:       %2.3f[reps/s]\\ntf.function:      %2.3f[reps/s]\"%(dt_graph_tuple, dt_tf_function))\n",
    "print(\"Perf. difference: %2.3f\"%((dt_graph_tuple-dt_tf_function)/dt_graph_tuple * 100)+\"%\")"
   ]
  }
 ],
 "metadata": {
  "colab": {
   "collapsed_sections": [],
   "name": "01-tf-gnn-basics.ipynb",
   "provenance": []
  },
  "kernelspec": {
   "display_name": "Python 3",
   "language": "python",
   "name": "python3"
  },
  "language_info": {
   "codemirror_mode": {
    "name": "ipython",
    "version": 3
   },
   "file_extension": ".py",
   "mimetype": "text/x-python",
   "name": "python",
   "nbconvert_exporter": "python",
   "pygments_lexer": "ipython3",
   "version": "3.8.5"
  }
 },
 "nbformat": 4,
 "nbformat_minor": 1
}
