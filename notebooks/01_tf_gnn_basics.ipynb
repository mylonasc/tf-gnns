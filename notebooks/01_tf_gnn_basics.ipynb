{
 "cells": [
  {
   "cell_type": "markdown",
   "metadata": {
    "id": "vln3LX7iYdts"
   },
   "source": [
    "# `tf_gnns`: A Hackable `graph_nets` library\n",
    "largely inspired by the `graph_nets` project.\n",
    "\n",
    "First install the library on the colab notebook and import it"
   ]
  },
  {
   "cell_type": "code",
   "execution_count": 1,
   "metadata": {
    "collapsed": true,
    "id": "8OZrOK7oJ9XW"
   },
   "outputs": [
    {
     "name": "stdout",
     "output_type": "stream",
     "text": [
      "Defaulting to user installation because normal site-packages is not writeable\n",
      "Requirement already satisfied: tf_gnns==0.1.0 in /home/charilaos/.local/lib/python3.8/site-packages (0.1.0)\n",
      "\u001b[33mWARNING: You are using pip version 21.0; however, version 21.0.1 is available.\n",
      "You should consider upgrading via the '/usr/bin/python3 -m pip install --upgrade pip' command.\u001b[0m\n",
      "loaded custom GN lib\n"
     ]
    }
   ],
   "source": [
    "# Install the tf_gnns library with pip:\n",
    "!pip install tf_gnns==0.1.0\n",
    "import tf_gnns"
   ]
  },
  {
   "cell_type": "markdown",
   "metadata": {
    "id": "38YcdOq2KIb6"
   },
   "source": [
    "# **GraphNet basics**\n",
    "The data-structure over which GraphNets (GNs) operate is an attributed multi-graph. In what follows some examples of definition of graphs are given.\n",
    "\n",
    "## Creating a single `Graph'\n",
    "In order to specify a `Graph' you need to specify a set of edges and nodes.\n",
    "\n"
   ]
  },
  {
   "cell_type": "code",
   "execution_count": 1,
   "metadata": {},
   "outputs": [
    {
     "name": "stdout",
     "output_type": "stream",
     "text": [
      "ln: failed to create symbolic link './tf_gnns': File exists\r\n"
     ]
    }
   ],
   "source": [
    "!ln -s ../tf_gnns"
   ]
  },
  {
   "cell_type": "code",
   "execution_count": 2,
   "metadata": {
    "id": "wQfUezXNKOUi"
   },
   "outputs": [
    {
     "name": "stdout",
     "output_type": "stream",
     "text": [
      "loaded custom GN lib\n"
     ]
    }
   ],
   "source": [
    "# Creation of edges and nodes:\n",
    "import numpy as np\n",
    "from tf_gnns import Graph, Edge, Node\n",
    "\n",
    "nw_state_size = 10 # the state of the node and edge attributes. They can be different if necessary.\n",
    "\n",
    "# Defining the connectivity of a graph:\n",
    "adj_A = [(2,4),(3,4),(2,2) , (2,5),(5,1),(1,2),(2,3),(3,4),(4,5),(6,5),(7,6),(8,7)]\n",
    "\n",
    "nodes_A = [Node(np.random.randn(1,nw_state_size)) for n in range(10)]\n",
    "edges_A = [Edge(np.random.randn(1,nw_state_size), node_from= nodes_A[e_ij[0]], node_to= nodes_A[e_ij[1]]) for e_ij in adj_A]\n",
    "graph_A = Graph(nodes=nodes_A, edges= edges_A)"
   ]
  },
  {
   "cell_type": "markdown",
   "metadata": {
    "id": "3Zt-TYiiaG1f"
   },
   "source": [
    "For more expressivity some operations are over-loaded. Inspect the docstrings and the source code directly when not sure what happens. "
   ]
  },
  {
   "cell_type": "code",
   "execution_count": 3,
   "metadata": {
    "colab": {
     "base_uri": "https://localhost:8080/"
    },
    "id": "Kt_Kx5XMaYCO",
    "outputId": "1ea575ba-10a6-45c2-c218-6f923f1ffe40"
   },
   "outputs": [
    {
     "name": "stdout",
     "output_type": "stream",
     "text": [
      "Help on method __add__ in module tf_gnns.datastructures:\n",
      "\n",
      "__add__(graph) method of tf_gnns.datastructures.Graph instance\n",
      "    This should only work with graphs that have compatible node and edge features\n",
      "    Assumed also that the two graphs have the same connectivity (otherwise this will fail ugly)\n",
      "\n"
     ]
    }
   ],
   "source": [
    "help(graph_A.__add__)"
   ]
  },
  {
   "cell_type": "markdown",
   "metadata": {
    "id": "fiisOCW1KsJa"
   },
   "source": [
    "Simple graphs are not convenient for bached computation and in general should be avoided. Sometimes it may be \"safer\" to use graphs as a datastructure for experimentation on new algorithms. \n",
    "\n",
    "For most use-cases a `GraphTuple' should be used. `GraphTuples' are the only datastructures supported from the `graph_nets' library.\n",
    "\n",
    "## Creating a `GraphTuple`"
   ]
  },
  {
   "cell_type": "markdown",
   "metadata": {
    "id": "U08TIII0aiOF"
   },
   "source": [
    "# The `GraphTuple` data structure\n",
    "The `GraphTuple` is a set of graphs packed into an object that allows for easier parallelization of the `GraphNet` computation block. It is the default (and only) possible data-structure in DeepMind's GraphNets library.\n",
    "You can either create a `GraphTuple` directly from tensors or numpy arrays or by a list of `Graph` objects (as above). Utilities are provided to perform such manipulations. Note that in general it's better to avoid using `Graph`s alltogether, but they are useful for testing.\n",
    "\n",
    "Here is how to create a `GraphTuple` from a list of `Graph` objects:"
   ]
  },
  {
   "cell_type": "code",
   "execution_count": 4,
   "metadata": {
    "id": "tNZYYcuZa8Fh"
   },
   "outputs": [],
   "source": [
    "from tf_gnns import make_graph_tuple_from_graph_list\n",
    "\n",
    "# Some graphs to compute with:\n",
    "adj_A = [(2,4),(3,4),(2,2) , (2,5),(5,1),(1,2),(2,3),(3,4),(4,5),(6,5),(7,6),(4,2)]\n",
    "adj_B = [(3,4),(2,2) , (2,5),(5,1),(1,2),(2,3),(3,4),(4,5),(6,5),(7,6),(8,9)]\n",
    "\n",
    "nw_state_size  = 2\n",
    "\n",
    "nodes_A = [Node(np.random.randn(1,nw_state_size)) for n in range(15)]\n",
    "edges_A = [Edge(np.random.randn(1,nw_state_size), node_from= nodes_A[e_ij[0]], node_to= nodes_A[e_ij[1]]) for e_ij in adj_A]\n",
    "graph_A = Graph(nodes=nodes_A, edges= edges_A)\n",
    "                \n",
    "nodes_B = [Node(np.random.randn(1,nw_state_size)) for n in range(10)]\n",
    "edges_B = [Edge(np.random.randn(1,nw_state_size), node_from=nodes_B[e_ij[0]], node_to = nodes_B[e_ij[1]]) for e_ij in adj_B]\n",
    "graph_B = Graph(nodes=nodes_B, edges= edges_B)\n",
    "gt = make_graph_tuple_from_graph_list([graph_A, graph_B])"
   ]
  },
  {
   "cell_type": "code",
   "execution_count": 5,
   "metadata": {
    "colab": {
     "base_uri": "https://localhost:8080/"
    },
    "id": "0eU4-zIDbLoH",
    "outputId": "84623566-7d43-4289-aa4d-60574652e8f0"
   },
   "outputs": [
    {
     "name": "stdout",
     "output_type": "stream",
     "text": [
      "number of nodes of graphtuple:\n",
      "25\n",
      "GraphTuple tensor shapes:\n",
      "(25, 2) (23, 2)\n",
      "Shapes of a single node from graph_A: [1,2]\n",
      "Number of nodes of graphs: A: 15, B: 10\n",
      "\n",
      "size of node attributes: [2]\n",
      "size of edge attributes: [2]\n"
     ]
    }
   ],
   "source": [
    "print(\"number of nodes of graphtuple:\")\n",
    "print(gt.nodes.shape[0])\n",
    "\n",
    "print('GraphTuple tensor shapes:')\n",
    "print(gt.nodes.shape, gt.edges.shape)\n",
    "\n",
    "print(\"Shapes of a single node from graph_A: [%i,%i]\"%(graph_A.nodes[0].shape))\n",
    "\n",
    "\n",
    "print(\"Number of nodes of graphs: A: %i, B: %i\"%(len(graph_A.nodes), len(graph_B.nodes)))\n",
    "print(\"\")\n",
    "print(\"size of node attributes: [%i]\"%( graph_A.nodes[0].node_attr_tensor.shape[-1]))\n",
    "print(\"size of edge attributes: [%i]\"%(  graph_A.edges[0].edge_tensor.shape[-1]))"
   ]
  },
  {
   "cell_type": "markdown",
   "metadata": {
    "id": "eaBvkXVkbz0D"
   },
   "source": [
    "# **Creating a Custom `GraphNet`**\n",
    "\n",
    "In order to create a GraphNet (without global variables) one needs to define the following:\n",
    "\n",
    "* node function\n",
    "* an edge function\n",
    "* an edge aggregation function (except if a GraphIndependent network is implemented)\n",
    "\n",
    "In addition to that, one needs to pay attention that the input sizes of the node and edge function are consistent with the input graph, the edge aggregation function (if it exists) has to have outputs consistent with expected inputs of the node function (if the graph is not graph independet). Moreover, each of these functions have potentially different inputs related to the input graph.\n",
    "\n",
    "For instance:\n",
    "\n",
    "* Edge functions may have as inputs (\n",
    "    1) the edge state, \n",
    "    2) the sender node state, \n",
    "    3) the receiver node state\n",
    "\n",
    "* Node functions may have as inputs \n",
    "    1) the node state \n",
    "    2) an aggregated message incoming from the edges that point to that node. \n",
    "    \n",
    "These cases are identified internally by the naming of the inputs of the provided functions. See the examples to understand how to implement your own in case you want something special to happen in these functions. The `tf_gnns` library is built with `tf.keras` in mind and defines constraints to help development in a way that it exploits simple keras constructs (such as naming of inputs and output variables and the functional API of keras (`tf.keras.Model`) to facilitate building `GraphNets`. In contrast, DeepMind's GraphNet library uses Sonnet for that reason, and puts constraints on how computation and model construction happens for the same purpose. For some use-cases (such as implementation of bootstrapping or potential extensions on sparse graphs) It was found this was not very convenient - this is why this library was built.\n",
    "\n"
   ]
  },
  {
   "cell_type": "code",
   "execution_count": 6,
   "metadata": {
    "colab": {
     "base_uri": "https://localhost:8080/"
    },
    "id": "SNodjfRfcHJO",
    "outputId": "855ca824-812a-4be9-c8f4-9f81245e3a2b"
   },
   "outputs": [],
   "source": [
    "from tf_gnns import make_mlp_graphnet_functions, GraphNet, Node, Edge, Graph, GraphTuple, make_graph_tuple_from_graph_list\n",
    "## Naming:\n",
    "# ... _enc  : parameter of encoder block GNN (graph indep.)\n",
    "# ... _core : parameter of core block GNN \n",
    "# ... _dec  : parameter of decoder block GNN\n",
    "gnn_size = 50;\n",
    "node_input_size_enc, node_output_size_enc = [2, 10]\n",
    "node_input_size_core, node_output_size_core = [10, 10]\n",
    "node_input_size_dec, node_output_size_dec = [10,2]\n",
    "\n",
    "edge_input_size_enc  = 2\n",
    "edge_output_size_dec = 2\n",
    "\n",
    "graph_fcn_enc = make_mlp_graphnet_functions(gnn_size,\n",
    "                                          node_input_size = node_input_size_enc,\n",
    "                                          node_output_size = node_output_size_enc,\n",
    "                                          edge_input_size =  edge_input_size_enc,\n",
    "                                          graph_indep=True)\n",
    "\n",
    "graph_fcn_core = make_mlp_graphnet_functions(gnn_size,\n",
    "                                          node_input_size = node_input_size_core, \n",
    "                                          node_output_size = node_output_size_core, \n",
    "                                          graph_indep=False)\n",
    "\n",
    "graph_fcn_dec = make_mlp_graphnet_functions(gnn_size,\n",
    "                                          node_input_size = node_input_size_dec, \n",
    "                                          node_output_size = node_output_size_dec, \n",
    "                                          edge_output_size= edge_output_size_dec,\n",
    "                                          graph_indep=True)\n",
    "\n",
    "\n",
    "graph_fcn_enc['graph_independent'] = True\n",
    "graph_fcn_dec['graph_independent'] = True\n",
    "\n",
    "gnn_dicts = [graph_fcn_enc, graph_fcn_core, graph_fcn_enc]\n",
    "\n",
    "gnns = [GraphNet(**fcns) for fcns in [graph_fcn_enc,graph_fcn_core,graph_fcn_dec]] # A full encode-core-decode set of GNNs. One may eval. the core block multiple times.\n",
    "    "
   ]
  },
  {
   "cell_type": "markdown",
   "metadata": {
    "id": "CDMVNfemgOsD"
   },
   "source": [
    "In the example above `make_mlp_graphnet_functions` is a factory method. It conveniently returns a set of functions (keras models) that are in turn used to create GNNs.\n",
    "\n"
   ]
  },
  {
   "cell_type": "code",
   "execution_count": 7,
   "metadata": {
    "colab": {
     "base_uri": "https://localhost:8080/"
    },
    "id": "AeUjRGf9j0c5",
    "outputId": "2b9c557f-95d2-4acb-a2f0-e6d85a58e878"
   },
   "outputs": [
    {
     "name": "stdout",
     "output_type": "stream",
     "text": [
      "Help on function make_mlp_graphnet_functions in module tf_gnns.graphnet_utils:\n",
      "\n",
      "make_mlp_graphnet_functions(units, node_input_size, node_output_size, edge_input_size=None, edge_output_size=None, use_global_to_edge=False, use_global_to_node=False, global_state_size=None, graph_indep=False, message_size=None, aggregation_function='mean')\n",
      "    Make the 3 functions that define the graph (no Nodes to Global and Edges to Global)\n",
      "    * If `edge_input_size' and `edge_output_size' are not defined (None) \n",
      "      It is assumed that all inputs and all outputs are the same shape for nodes and edges.\n",
      "    \n",
      "    parameters:\n",
      "      units              : a size parameter for the networks created.\n",
      "      node_input_size    : shape of the node state of the incoming graph.\n",
      "      node_output_size   : shape of the node state of the output graph\n",
      "      use_global_to_edge : [False] whether to use a global variable for the created edge MLPs. This changes what \n",
      "                           the evaluation functions of the GN expect (now they also expect a global tensor \n",
      "                           provided as a separate input). See also ~tf_gnns.GraphNet.graph_tuple_eval\n",
      "      use_global_to_node : [False] whether to use a global variable for the created node MLPs.\n",
      "                           See also `~tf_gnns.GraphNet.graph_tuple_eval`\n",
      "    \n",
      "      edge_input_size  : (optional) the shape of the edge attributes of the input graph (defaults to node_input_size)\n",
      "      edge_output_size : (optional) the shape of the edge attributes of the output graph (defaults to node_output_size)\n",
      "      graph_indep      : default: False - whether message passing happens in this graphNet (if not it is a \"graph-independent\" GN)\n",
      "      message_size     : (optional) the size of the passed message - this can be different from the edge-state output size! \n",
      "                         What this affects is what goes into the aggregator and to the node-function. Edge state can still be whatever.\n",
      "\n"
     ]
    }
   ],
   "source": [
    "help(make_mlp_graphnet_functions)"
   ]
  },
  {
   "cell_type": "markdown",
   "metadata": {
    "id": "SXWq1OZFj2Ul"
   },
   "source": [
    "Each of the GraphNets can be easilly saved using the `.save` method. You can invoke the summary method of any of these GNNs to inspect the inputs and outputs of the GN functions:"
   ]
  },
  {
   "cell_type": "code",
   "execution_count": 8,
   "metadata": {
    "colab": {
     "base_uri": "https://localhost:8080/"
    },
    "id": "GPNUzitpkZxc",
    "outputId": "c9ee8892-3486-4baa-a2c8-ae85e0b98470"
   },
   "outputs": [
    {
     "name": "stdout",
     "output_type": "stream",
     "text": [
      "Summary of all GraphNet functions\n",
      "Node function\n",
      "Model: \"model_1\"\n",
      "_________________________________________________________________\n",
      "Layer (type)                 Output Shape              Param #   \n",
      "=================================================================\n",
      "node_state (InputLayer)      [(None, 2)]               0         \n",
      "_________________________________________________________________\n",
      "dense_4 (Dense)              (None, 50)                150       \n",
      "_________________________________________________________________\n",
      "dropout_2 (Dropout)          (None, 50)                0         \n",
      "_________________________________________________________________\n",
      "dense_5 (Dense)              (None, 50)                2550      \n",
      "_________________________________________________________________\n",
      "dropout_3 (Dropout)          (None, 50)                0         \n",
      "_________________________________________________________________\n",
      "dense_6 (Dense)              (None, 50)                2550      \n",
      "_________________________________________________________________\n",
      "dense_7 (Dense)              (None, 10)                510       \n",
      "=================================================================\n",
      "Total params: 5,760\n",
      "Trainable params: 5,760\n",
      "Non-trainable params: 0\n",
      "_________________________________________________________________\n",
      "\n",
      "Edge function\n",
      "Model: \"model\"\n",
      "_________________________________________________________________\n",
      "Layer (type)                 Output Shape              Param #   \n",
      "=================================================================\n",
      "edge_state (InputLayer)      [(None, 2)]               0         \n",
      "_________________________________________________________________\n",
      "dense (Dense)                (None, 50)                150       \n",
      "_________________________________________________________________\n",
      "dropout (Dropout)            (None, 50)                0         \n",
      "_________________________________________________________________\n",
      "dense_1 (Dense)              (None, 50)                2550      \n",
      "_________________________________________________________________\n",
      "dropout_1 (Dropout)          (None, 50)                0         \n",
      "_________________________________________________________________\n",
      "dense_2 (Dense)              (None, 50)                2550      \n",
      "_________________________________________________________________\n",
      "dense_3 (Dense)              (None, 10)                510       \n",
      "=================================================================\n",
      "Total params: 5,760\n",
      "Trainable params: 5,760\n",
      "Non-trainable params: 0\n",
      "_________________________________________________________________\n",
      "\n",
      "Edge Agg. function\n",
      "Model: \"model\"\n",
      "_________________________________________________________________\n",
      "Layer (type)                 Output Shape              Param #   \n",
      "=================================================================\n",
      "edge_state (InputLayer)      [(None, 2)]               0         \n",
      "_________________________________________________________________\n",
      "dense (Dense)                (None, 50)                150       \n",
      "_________________________________________________________________\n",
      "dropout (Dropout)            (None, 50)                0         \n",
      "_________________________________________________________________\n",
      "dense_1 (Dense)              (None, 50)                2550      \n",
      "_________________________________________________________________\n",
      "dropout_1 (Dropout)          (None, 50)                0         \n",
      "_________________________________________________________________\n",
      "dense_2 (Dense)              (None, 50)                2550      \n",
      "_________________________________________________________________\n",
      "dense_3 (Dense)              (None, 10)                510       \n",
      "=================================================================\n",
      "Total params: 5,760\n",
      "Trainable params: 5,760\n",
      "Non-trainable params: 0\n",
      "_________________________________________________________________\n",
      "\n"
     ]
    }
   ],
   "source": [
    "gnns[0].summary()"
   ]
  },
  {
   "cell_type": "markdown",
   "metadata": {
    "id": "h9nNnRAzkcRh"
   },
   "source": [
    "The overloaded `__add__()` operator shown above, comes in handy when computing residual connections:"
   ]
  },
  {
   "cell_type": "code",
   "execution_count": 9,
   "metadata": {
    "id": "nzBrWl9ZmMQ_"
   },
   "outputs": [],
   "source": [
    "CORE_STEPS = 2\n",
    "def eval_full_shared_resid_core(G : GraphTuple, core_steps =CORE_STEPS):\n",
    "    ## The actual computation\n",
    "    G = gnns[0].graph_tuple_eval(G) # The \"encode\" GraphNet block \n",
    "\n",
    "    for ncore in range(0,core_steps):\n",
    "        # gnns[1] is the \"core\" GraphNet block\n",
    "        G += gnns[1].graph_tuple_eval(G) # Overloaded sum operator - assign-add implements the residual connection (no projection needed - same size)\n",
    "        \n",
    "    G = gnns[-1].graph_tuple_eval(G)\n",
    "\n",
    "    return G"
   ]
  },
  {
   "cell_type": "code",
   "execution_count": 10,
   "metadata": {
    "id": "Hj3JArLQmRHa"
   },
   "outputs": [],
   "source": [
    "gt_eval = eval_full_shared_resid_core(gt.copy())"
   ]
  },
  {
   "cell_type": "code",
   "execution_count": 11,
   "metadata": {
    "colab": {
     "base_uri": "https://localhost:8080/"
    },
    "id": "t5tZrJUbnyJV",
    "outputId": "50004ca9-2dc4-4171-e96a-8a030e6f908f"
   },
   "outputs": [
    {
     "name": "stdout",
     "output_type": "stream",
     "text": [
      "Output GraphTuple:\n",
      "  nodes shape: [25,2]\n",
      "  edges shape: [23,2]\n"
     ]
    }
   ],
   "source": [
    "print(\"Output GraphTuple:\")\n",
    "edges_shape, nodes_shape = gt_eval.edges.shape.as_list(),gt_eval.nodes.shape.as_list()\n",
    "print(\"  nodes shape: [%i,%i]\"%(nodes_shape[0], nodes_shape[1]))\n",
    "print(\"  edges shape: [%i,%i]\"%(edges_shape[0], edges_shape[1]))\n"
   ]
  },
  {
   "cell_type": "markdown",
   "metadata": {
    "id": "KnIiL_-bo8_Y"
   },
   "source": [
    "## `Global` blocks\n",
    "Currently global blocks are not implemented. The reason for this is that it is easy to implement them in a few lines when needed. Here is an example of implementing a graph-to-global function with the respective aggregators:\n",
    "\n"
   ]
  },
  {
   "cell_type": "code",
   "execution_count": 12,
   "metadata": {
    "id": "E2XSCY_5o_MR"
   },
   "outputs": [],
   "source": [
    "from tf_gnns.graphnet_utils import make_keras_simple_agg\n",
    "from tensorflow.keras.layers import Input, Dense\n",
    "from tensorflow.keras import Model\n",
    "\n",
    "GN_STATE = 2\n",
    "GLOB_STATE_OUT = 1\n",
    "def make_graph_tuple_to_global(insize = GN_STATE,output_size = GLOB_STATE_OUT, agg_type = 'mean'):\n",
    "    \n",
    "    agg_fcn = make_keras_simple_agg(insize,agg_type) # from ibk_gnns import make_keras_simple_agg\n",
    "    agg_fcn = agg_fcn[1] # The graph tuple version of the aggregator\n",
    "    \n",
    "    # Constructing the node+edge -> global function. \n",
    "    xx = Input(shape = (insize,))\n",
    "    out = Dense(insize, 'tanh')(xx)\n",
    "    out = Dense(insize, 'tanh')(out)\n",
    "    out = Dense(output_size, activation = None, use_bias = False)(out)\n",
    "    global_fcn = Model(inputs = xx, outputs = out)\n",
    "    \n",
    "    def fcn_node_and_edge(gt_):\n",
    "        # Aggregate the node and edge info:\n",
    "\n",
    "        # First, retrieve the segment IDs (as done on the full GN step with no global aggregation):\n",
    "        graph_indices_nodes = []\n",
    "        for k_,k in enumerate(gt_.n_nodes):\n",
    "            graph_indices_nodes.extend(np.ones(k).astype(\"int\")*k_)\n",
    "\n",
    "        graph_indices_edges = []\n",
    "        for k_,k in enumerate(gt_.n_edges):\n",
    "            graph_indices_edges.extend(np.ones(k).astype(\"int\")*k_)\n",
    "            \n",
    "        o1 = agg_fcn(gt_.nodes,graph_indices_nodes, gt_.n_graphs) # node_to_global aggregation\n",
    "        o2 = agg_fcn(gt_.edges,graph_indices_edges, gt_.n_graphs) # edge_to_global aggregation\n",
    "        return global_fcn(o1+o2) # either concat or add the aggregated information.\n",
    "\n",
    "    return fcn_node_and_edge, global_fcn #(the global fcn is also returned to later retrieve its weights)"
   ]
  },
  {
   "cell_type": "code",
   "execution_count": 13,
   "metadata": {
    "colab": {
     "base_uri": "https://localhost:8080/"
    },
    "id": "dquuy1kfs7s_",
    "outputId": "fbe3a890-c5df-496b-ae3b-3872a9a36242"
   },
   "outputs": [],
   "source": [
    "# Evaluation example:\n",
    "# gt_eval = eval_full_shared_resid_core(gt.copy())\n",
    "graph_tuple_to_global, global_fcn = make_graph_tuple_to_global(insize = GN_STATE,agg_type =\"mean\")"
   ]
  },
  {
   "cell_type": "code",
   "execution_count": 14,
   "metadata": {
    "colab": {
     "base_uri": "https://localhost:8080/"
    },
    "id": "ihf0xZ8ktaOT",
    "outputId": "5929fd19-c1f6-49c5-8baa-863ff826bfe2"
   },
   "outputs": [
    {
     "name": "stdout",
     "output_type": "stream",
     "text": [
      "2 graphs, 1 dimensional output:\n"
     ]
    },
    {
     "data": {
      "text/plain": [
       "<tf.Tensor: shape=(2, 1), dtype=float32, numpy=\n",
       "array([[-0.02061934],\n",
       "       [-0.01939666]], dtype=float32)>"
      ]
     },
     "execution_count": 14,
     "metadata": {},
     "output_type": "execute_result"
    }
   ],
   "source": [
    "res = graph_tuple_to_global(gt_eval)\n",
    "print(\"%i graphs, %i dimensional output:\"%(gt.n_graphs, GLOB_STATE_OUT))\n",
    "res"
   ]
  },
  {
   "cell_type": "markdown",
   "metadata": {
    "id": "7V3rMYVfuGYr"
   },
   "source": [
    "## All weights of a GN:\n",
    "Gathering the weights (trainable parameters) of `GraphNet` blocks in the `tf_gnns` is easy. Here is how to get all the parameters of the above computation:"
   ]
  },
  {
   "cell_type": "code",
   "execution_count": 15,
   "metadata": {
    "id": "QwIBwzbZuzku"
   },
   "outputs": [],
   "source": [
    "\n",
    "all_weights=[]\n",
    "for g in gnns: # the encode/core/decode layers:\n",
    "    ww = g.weights()\n",
    "    all_weights.extend(ww)\n",
    "\n",
    "all_weights.extend(global_fcn.weights) # The final \"graph to global\" layer.\n"
   ]
  },
  {
   "cell_type": "markdown",
   "metadata": {
    "id": "S9xwRC0Wu4mS"
   },
   "source": [
    "# Taking gradients of the whole operation:\n",
    "The whole operation above is differentiable. Here is how to simply take gradients of the above with `tf.GradientTape()`:"
   ]
  },
  {
   "cell_type": "code",
   "execution_count": 16,
   "metadata": {
    "id": "P5rm4kfa1VIb"
   },
   "outputs": [],
   "source": [
    "import tensorflow as tf\n",
    "opt = tf.keras.optimizers.Adam(learning_rate = 0.001)"
   ]
  },
  {
   "cell_type": "code",
   "execution_count": 18,
   "metadata": {
    "id": "g-lKQHJwybRb"
   },
   "outputs": [],
   "source": [
    "\n",
    "# Just some random numbers to work with:\n",
    "Y = np.random.randn(gt.n_graphs,GLOB_STATE_OUT)\n",
    "def full_eval_with_global(G):\n",
    "    G = eval_full_shared_resid_core(G)\n",
    "    return graph_tuple_to_global(G)\n",
    "\n",
    "def loss(Ypred, Yactual):\n",
    "    return tf.reduce_mean(tf.square(Ypred - Yactual))\n",
    "\n",
    "# The following also gives us direct access to the gradients which may be \n",
    "# useful in some contexts:\n",
    "with tf.GradientTape() as tape:\n",
    "    Yhat = full_eval_with_global(gt.copy())\n",
    "    loss_current = loss(Yhat, Y)\n",
    "    grads = tape.gradient(loss_current,all_weights)\n",
    "    opt.apply_gradients(zip(grads,all_weights))\n"
   ]
  },
  {
   "cell_type": "code",
   "execution_count": 19,
   "metadata": {
    "colab": {
     "base_uri": "https://localhost:8080/"
    },
    "id": "I_1K5jH2D3m3",
    "outputId": "9f67dea7-fb7f-4c4c-8e55-09e344b75676"
   },
   "outputs": [
    {
     "data": {
      "text/plain": [
       "array([ 0, 16, 32, 48, 53])"
      ]
     },
     "execution_count": 19,
     "metadata": {},
     "output_type": "execute_result"
    }
   ],
   "source": [
    "nweights_per_block = [len(g.weights()) for g in gnns]\n",
    "nweights_per_block.append(len(global_fcn.weights))\n",
    "cumsum_nweights_per_block = np.cumsum([0,*nweights_per_block])\n",
    "cumsum_nweights_per_block"
   ]
  },
  {
   "cell_type": "markdown",
   "metadata": {
    "id": "j80LRib_0mVY"
   },
   "source": [
    "A plot of the gradient histograms from different blocks:"
   ]
  },
  {
   "cell_type": "code",
   "execution_count": 20,
   "metadata": {
    "colab": {
     "base_uri": "https://localhost:8080/",
     "height": 267
    },
    "id": "_EhF0SfF4kSX",
    "outputId": "cc86efeb-7101-49ef-ac08-60f02d73a497"
   },
   "outputs": [
    {
     "name": "stderr",
     "output_type": "stream",
     "text": [
      "<ipython-input-20-c0fecd24b1ac>:8: MatplotlibDeprecationWarning: Adding an axes using the same arguments as a previous axes currently reuses the earlier instance.  In a future version, a new instance will always be created and returned.  Meanwhile, this warning can be suppressed, and the future behavior ensured, by passing a unique label to each axes instance.\n",
      "  plt.subplot(1,4,1+k)\n"
     ]
    },
    {
     "data": {
      "image/png": "[encoded data removed]",
      "text/plain": [
       "<Figure size 720x180 with 4 Axes>"
      ]
     },
     "metadata": {
      "needs_background": "light"
     },
     "output_type": "display_data"
    }
   ],
   "source": [
    "import matplotlib.pyplot as plt\n",
    "\n",
    "sc = 0.5\n",
    "plt.figure(figsize = (20*sc,5*sc))\n",
    "\n",
    "plt.subplot(1,4,1)\n",
    "for k,name in enumerate(['encode','core','decode','global']):\n",
    "    plt.subplot(1,4,1+k)\n",
    "    # Encode network:\n",
    "    start_idx, end_idx = cumsum_nweights_per_block[k:k+2]\n",
    "    for g_ in grads[start_idx:end_idx]:\n",
    "        plt.hist(g_.numpy().flatten(), alpha = 0.9)\n",
    "\n",
    "    plt.grid()\n",
    "    plt.title(\"%s network\\nGrad. histogram\"%name)"
   ]
  },
  {
   "cell_type": "markdown",
   "metadata": {},
   "source": [
    "# Support for global variables\n",
    "global-to-edge and global-to-node functions are also supported.\n",
    "The GN block does nothing special to the global variable (it simple passes it to the input of the node and edge block). In order to use the global variable, define `use_global_to_edge = True` and/or `use_global_to_node = True` in construction, and the size/shape (shapes with rank>1 for the global variable are currently un-tested and probably will lead to bugs) of the global variable during construction. for more custom computations and more advanced features, check the source of the factory method `make_mlp_graphnet_factory(...)` to understand naming conventions etc. The global variable is appended to the inputs of the node/edge functions when used."
   ]
  },
  {
   "cell_type": "code",
   "execution_count": 21,
   "metadata": {},
   "outputs": [],
   "source": [
    "from tf_gnns import make_mlp_graphnet_functions, GraphNet, Node, Edge, Graph, GraphTuple, make_graph_tuple_from_graph_list\n",
    "\n",
    "gnn_size = 50;\n",
    "node_input_size_enc, node_output_size_enc = [2, 10]\n",
    "node_input_size_core, node_output_size_core = [10, 10]\n",
    "node_input_size_dec, node_output_size_dec = [10,2]\n",
    "\n",
    "gn_global_state = 7\n",
    "edge_input_size_enc  = 2\n",
    "edge_output_size_dec = 2\n",
    "\n",
    "graph_fcn_enc = make_mlp_graphnet_functions(gnn_size,\n",
    "                                          node_input_size = node_input_size_enc,\n",
    "                                          node_output_size = node_output_size_enc,\n",
    "                                          edge_input_size =  edge_input_size_enc,\n",
    "                                          use_global_to_edge = False,\n",
    "                                          use_global_to_node = False,\n",
    "                                          graph_indep=True)\n",
    "\n",
    "graph_fcn_core = make_mlp_graphnet_functions(gnn_size,\n",
    "                                          node_input_size = node_input_size_core, \n",
    "                                          node_output_size = node_output_size_core, \n",
    "                                          use_global_to_edge = True,\n",
    "                                          use_global_to_node = True,\n",
    "                                          global_state_size = gn_global_state,\n",
    "                                          graph_indep=False)\n",
    "\n",
    "graph_fcn_dec = make_mlp_graphnet_functions(gnn_size,\n",
    "                                          node_input_size = node_input_size_dec, \n",
    "                                          node_output_size = node_output_size_dec, \n",
    "                                          edge_output_size= edge_output_size_dec,\n",
    "                                          graph_indep=True)\n",
    "\n",
    "\n",
    "graph_fcn_enc['graph_independent'] = True\n",
    "graph_fcn_dec['graph_independent'] = True\n",
    "\n",
    "graph_tuple_to_global, global_fcn = make_graph_tuple_to_global(insize = node_output_size_core,\n",
    "                                                               output_size=gn_global_state,\n",
    "                                                               agg_type =\"mean\")"
   ]
  },
  {
   "cell_type": "code",
   "execution_count": 22,
   "metadata": {},
   "outputs": [],
   "source": [
    "gn_enc = GraphNet(**graph_fcn_enc)\n",
    "gn_core = GraphNet(**graph_fcn_core)\n",
    "global_vars =  tf.Variable(np.random.randn(gt.n_graphs, gn_global_state))\n",
    "\n",
    "g_ =  gn_enc.graph_tuple_eval(gt.copy())\n",
    "\n",
    "# The following lines implement the full-GN block:\n",
    "g_         = gn_core.graph_tuple_eval(g_, global_vars) # <-- Note that the global variables are used here. \n",
    "glob_accum = graph_tuple_to_global(g_)\n",
    "g_         = gn_core.graph_tuple_eval(g_, glob_accum)"
   ]
  }
 ],
 "metadata": {
  "colab": {
   "collapsed_sections": [],
   "name": "01-tf-gnn-basics.ipynb",
   "provenance": []
  },
  "kernelspec": {
   "display_name": "Python 3",
   "language": "python",
   "name": "python3"
  },
  "language_info": {
   "codemirror_mode": {
    "name": "ipython",
    "version": 3
   },
   "file_extension": ".py",
   "mimetype": "text/x-python",
   "name": "python",
   "nbconvert_exporter": "python",
   "pygments_lexer": "ipython3",
   "version": "3.8.5"
  }
 },
 "nbformat": 4,
 "nbformat_minor": 1
}
